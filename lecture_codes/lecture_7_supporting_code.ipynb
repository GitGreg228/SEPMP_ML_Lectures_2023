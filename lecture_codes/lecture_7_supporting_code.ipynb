{
  "nbformat": 4,
  "nbformat_minor": 0,
  "metadata": {
    "colab": {
      "provenance": []
    },
    "kernelspec": {
      "name": "python3",
      "display_name": "Python 3"
    },
    "language_info": {
      "name": "python"
    }
  },
  "cells": [
    {
      "cell_type": "markdown",
      "source": [
        "<a href=\"https://colab.research.google.com/github/GitGreg228/sepmp_ml_2023/blob/main/lecture_codes/lecture_7_supporting_code.ipynb\" target=\"_parent\"><img src=\"https://colab.research.google.com/assets/colab-badge.svg\" alt=\"Open In Colab\"/></a>"
      ],
      "metadata": {
        "id": "_OJN0yKdmxPb"
      }
    },
    {
      "cell_type": "code",
      "execution_count": 1,
      "metadata": {
        "id": "TWUoB9tTtkxc"
      },
      "outputs": [],
      "source": [
        "import pandas as pd\n",
        "import numpy as np\n",
        "import matplotlib.pyplot as plt\n",
        "import torch\n",
        "\n",
        "from sklearn.datasets import load_iris\n",
        "from sklearn.model_selection import train_test_split\n",
        "from copy import deepcopy\n",
        "from torch.utils.data import DataLoader\n",
        "from torch.utils.data import TensorDataset\n",
        "from tqdm import tqdm\n",
        "from sklearn.inspection import DecisionBoundaryDisplay\n",
        "from sklearn.decomposition import PCA"
      ]
    },
    {
      "cell_type": "markdown",
      "source": [
        "# Intro to Pytorch - differentiation\n",
        "\n",
        "$$\n",
        "y(\\mathbf{x}) = 1 - \\sum_i^n x^2_i\n",
        "$$\n",
        "where \n",
        "* $\\mathbf{x} \\in \\mathbb{R}^n = (x_1, x_2, ..., x_n)$\n",
        "* $y: \\mathbb{R}^n \\rightarrow \\mathbb{R}$"
      ],
      "metadata": {
        "id": "oiQPeVBYygKf"
      }
    },
    {
      "cell_type": "code",
      "source": [
        "x = np.array([0., 1., 2., 3.])\n",
        "y = 1 - np.sum(np.square(x))\n",
        "print(x, y)"
      ],
      "metadata": {
        "colab": {
          "base_uri": "https://localhost:8080/"
        },
        "id": "FTv_2eptylUG",
        "outputId": "f389bf9c-b78e-4182-87ea-4d5a2a171e9b"
      },
      "execution_count": 2,
      "outputs": [
        {
          "output_type": "stream",
          "name": "stdout",
          "text": [
            "[0. 1. 2. 3.] -13.0\n"
          ]
        }
      ]
    },
    {
      "cell_type": "markdown",
      "source": [
        "\\begin{align}\n",
        "\\mathrm{grad} y = \\nabla_{\\mathbf{x}} y &= (\\frac{\\partial y}{\\partial x_1}, \\frac{\\partial y}{\\partial x_2}, ..., \\frac{\\partial y}{\\partial x_n}) \\\\\n",
        "\\frac{\\partial y}{\\partial x_i} &= -2 x_i\n",
        "\\end{align}"
      ],
      "metadata": {
        "id": "brF3JksuzdRI"
      }
    },
    {
      "cell_type": "code",
      "source": [
        "x = torch.tensor([0., 1., 2., 3.], requires_grad=True)\n",
        "y = 1 - torch.sum(torch.square(x))\n",
        "\n",
        "y.backward()\n",
        "print(f'x = {x}')\n",
        "print(f'(pytorch) grad y = {x.grad}')\n",
        "print(f'(analytical) grad y = {-2 * x}')"
      ],
      "metadata": {
        "colab": {
          "base_uri": "https://localhost:8080/"
        },
        "id": "kvlkddYVvo8s",
        "outputId": "cfc3a64d-7db1-47b2-cbca-e029a645fe6f"
      },
      "execution_count": 3,
      "outputs": [
        {
          "output_type": "stream",
          "name": "stdout",
          "text": [
            "x = tensor([0., 1., 2., 3.], requires_grad=True)\n",
            "(pytorch) grad y = tensor([-0., -2., -4., -6.])\n",
            "(analytical) grad y = tensor([-0., -2., -4., -6.], grad_fn=<MulBackward0>)\n"
          ]
        }
      ]
    },
    {
      "cell_type": "markdown",
      "source": [
        "back to numpy:"
      ],
      "metadata": {
        "id": "2NIsDtHv2DGt"
      }
    },
    {
      "cell_type": "code",
      "source": [
        "x.detach().numpy()"
      ],
      "metadata": {
        "colab": {
          "base_uri": "https://localhost:8080/"
        },
        "id": "Ii_e4hXxxz9k",
        "outputId": "67c2be36-5508-4607-8279-7d79bc2513e3"
      },
      "execution_count": 4,
      "outputs": [
        {
          "output_type": "execute_result",
          "data": {
            "text/plain": [
              "array([0., 1., 2., 3.], dtype=float32)"
            ]
          },
          "metadata": {},
          "execution_count": 4
        }
      ]
    },
    {
      "cell_type": "markdown",
      "source": [
        "# Modules\n",
        "\n",
        "Linear: \n",
        "$$\n",
        "f(\\mathbf{x}, \\mathbf{w}, b) = \\mathbf{w}\\mathbf{x}^{\\mathrm{T}} + b = w_1x_1 + w_2x_2 + ... + w_nx_n + b\n",
        "$$\n",
        "where\n",
        "* $\\mathbf{x} = (x_1, x_2, ..., x_n) \\in \\mathbb{R}^n$\n",
        "* $\\mathbf{w} = (w_1, w_2, ..., w_n) \\in \\mathbb{R}^n$\n",
        "* $b \\in \\mathbb{R}$\n",
        "* $f: \\mathbb{R}^n \\rightarrow \\mathbb{R}$"
      ],
      "metadata": {
        "id": "4UZaBShb2ukt"
      }
    },
    {
      "cell_type": "code",
      "source": [
        "f = torch.nn.Linear(4, 1)\n",
        "print(f.weight, f.bias)"
      ],
      "metadata": {
        "colab": {
          "base_uri": "https://localhost:8080/"
        },
        "id": "O45fk2Yt2oVn",
        "outputId": "7e4ba5a5-b6f4-4a88-998f-6fc5e55fa481"
      },
      "execution_count": 5,
      "outputs": [
        {
          "output_type": "stream",
          "name": "stdout",
          "text": [
            "Parameter containing:\n",
            "tensor([[ 0.3337,  0.0847,  0.0996, -0.4545]], requires_grad=True) Parameter containing:\n",
            "tensor([0.4087], requires_grad=True)\n"
          ]
        }
      ]
    },
    {
      "cell_type": "code",
      "source": [
        "print(f'x = {x}')\n",
        "print(f'torch: {f(x)}')\n",
        "print(f'analytical: {torch.sum(f.weight * x) + f.bias}')"
      ],
      "metadata": {
        "colab": {
          "base_uri": "https://localhost:8080/"
        },
        "id": "YNTskARO4OTY",
        "outputId": "eaba11b3-150c-42e8-c740-c0e1816199cb"
      },
      "execution_count": 6,
      "outputs": [
        {
          "output_type": "stream",
          "name": "stdout",
          "text": [
            "x = tensor([0., 1., 2., 3.], requires_grad=True)\n",
            "torch: tensor([-0.6709], grad_fn=<AddBackward0>)\n",
            "analytical: tensor([-0.6709], grad_fn=<AddBackward0>)\n"
          ]
        }
      ]
    },
    {
      "cell_type": "markdown",
      "source": [
        "Linear can be more complex:\n",
        "\n",
        "$$\n",
        "f(\\mathbf{x}, \\mathbf{W}, \\mathbf{b}) = \\mathbf{W}\\mathbf{x}^{\\mathrm{T}} + \\mathbf{b} = \\begin{pmatrix} w_{11}x_1 + w_{12}x_2 + ... + w_{1n}x_n + b_1 \\\\ \n",
        "w_{21}x_1 + w_{22}x_2 + ... + w_{2n}x_n + b_2\n",
        "\\end{pmatrix}\n",
        "$$\n",
        "\n",
        "where\n",
        "* $\\mathbf{x} = (x_1, x_2, ..., x_n) \\in \\mathbb{R}^n$\n",
        "* $\\mathbf{W} = \\begin{pmatrix} w_{11}, w_{12}, ..., w_{1n} \\\\  w_{21}, w_{22}, ..., w_{2n}  \\end{pmatrix} \\in \\mathbb{R}^{2n}$\n",
        "* $\\mathbf{b} = \\begin{pmatrix} b_1\\\\b_2 \\end{pmatrix} \\in \\mathbb{R}^2$\n",
        "* $f: \\mathbb{R}^n \\rightarrow \\mathbb{R}^2$"
      ],
      "metadata": {
        "id": "vsycHDUw54J6"
      }
    },
    {
      "cell_type": "code",
      "source": [
        "f = torch.nn.Linear(4, 2)\n",
        "print(f.weight, f.bias)"
      ],
      "metadata": {
        "colab": {
          "base_uri": "https://localhost:8080/"
        },
        "id": "_neLjDdS6vVq",
        "outputId": "60486068-8ce0-485f-822a-054963401218"
      },
      "execution_count": 7,
      "outputs": [
        {
          "output_type": "stream",
          "name": "stdout",
          "text": [
            "Parameter containing:\n",
            "tensor([[-0.4449,  0.0080, -0.2145,  0.4472],\n",
            "        [ 0.3255, -0.0139,  0.3747,  0.0175]], requires_grad=True) Parameter containing:\n",
            "tensor([ 0.4500, -0.3907], requires_grad=True)\n"
          ]
        }
      ]
    },
    {
      "cell_type": "code",
      "source": [
        "print(f'x = {x}')\n",
        "print(f'torch: {f(x)}')\n",
        "print(f'analytical: {torch.matmul(f.weight, x) + f.bias}')"
      ],
      "metadata": {
        "colab": {
          "base_uri": "https://localhost:8080/"
        },
        "id": "bmIgwUJs6vU3",
        "outputId": "c8181fc6-e61b-41fb-a1e6-fb3751caf9b7"
      },
      "execution_count": 8,
      "outputs": [
        {
          "output_type": "stream",
          "name": "stdout",
          "text": [
            "x = tensor([0., 1., 2., 3.], requires_grad=True)\n",
            "torch: tensor([1.3706, 0.3973], grad_fn=<AddBackward0>)\n",
            "analytical: tensor([1.3706, 0.3973], grad_fn=<AddBackward0>)\n"
          ]
        }
      ]
    },
    {
      "cell_type": "markdown",
      "source": [
        "# Sigmoid\n",
        "\n",
        "$$\n",
        "\\sigma(\\mathbf{x}) = \\frac{1}{1+e^{-\\mathbf{x}}}\n",
        "$$\n",
        "\n",
        "$\\sigma(\\mathbf{x}) : \\mathbb{R}^n \\rightarrow (0, 1)^n$"
      ],
      "metadata": {
        "id": "AFdXA0U0-SsA"
      }
    },
    {
      "cell_type": "code",
      "source": [
        "print(f'x = {x}')\n",
        "print(f'torch: {x.sigmoid()}')\n",
        "print(f'analytical: {1 / (1 + torch.exp(-x))}')"
      ],
      "metadata": {
        "colab": {
          "base_uri": "https://localhost:8080/"
        },
        "id": "kc7-jArG-Jpz",
        "outputId": "494887a5-e9b1-44bf-8204-a865aa8322f3"
      },
      "execution_count": 9,
      "outputs": [
        {
          "output_type": "stream",
          "name": "stdout",
          "text": [
            "x = tensor([0., 1., 2., 3.], requires_grad=True)\n",
            "torch: tensor([0.5000, 0.7311, 0.8808, 0.9526], grad_fn=<SigmoidBackward0>)\n",
            "analytical: tensor([0.5000, 0.7311, 0.8808, 0.9526], grad_fn=<MulBackward0>)\n"
          ]
        }
      ]
    },
    {
      "cell_type": "code",
      "source": [
        "x = torch.linspace(-7, 7, 100, requires_grad=True)\n",
        "plt.plot(x.detach(), x.sigmoid().detach())\n",
        "plt.xlabel(r'$x$')\n",
        "plt.ylabel(r'$y$')\n",
        "plt.title(r'$y = \\sigma(x)$')\n",
        "plt.show()"
      ],
      "metadata": {
        "colab": {
          "base_uri": "https://localhost:8080/",
          "height": 474
        },
        "id": "qkpW5Lp9-Xf0",
        "outputId": "90569cc3-4837-45eb-a8d2-6e824517328b"
      },
      "execution_count": 10,
      "outputs": [
        {
          "output_type": "display_data",
          "data": {
            "text/plain": [
              "<Figure size 640x480 with 1 Axes>"
            ],
            "image/png": "[encoded data removed]"
          },
          "metadata": {}
        }
      ]
    },
    {
      "cell_type": "markdown",
      "source": [
        "# Combining modules"
      ],
      "metadata": {
        "id": "gqKWWN_vAG6S"
      }
    },
    {
      "cell_type": "code",
      "source": [
        "f = torch.nn.Sequential(\n",
        "    torch.nn.Linear(4, 1),\n",
        "    torch.nn.Sigmoid(),\n",
        ")\n",
        "list(f.parameters())"
      ],
      "metadata": {
        "colab": {
          "base_uri": "https://localhost:8080/"
        },
        "id": "V_P33oA-_2ov",
        "outputId": "9a76cc3c-2644-4db2-d191-8694f255c684"
      },
      "execution_count": 11,
      "outputs": [
        {
          "output_type": "execute_result",
          "data": {
            "text/plain": [
              "[Parameter containing:\n",
              " tensor([[-0.2758, -0.0224, -0.4976, -0.1925]], requires_grad=True),\n",
              " Parameter containing:\n",
              " tensor([0.0890], requires_grad=True)]"
            ]
          },
          "metadata": {},
          "execution_count": 11
        }
      ]
    },
    {
      "cell_type": "markdown",
      "source": [
        "# Let's do Logistic regression on IRIS"
      ],
      "metadata": {
        "id": "FLioG5CfCZ02"
      }
    },
    {
      "cell_type": "code",
      "source": [
        "X, y = load_iris(return_X_y=True)\n",
        "mask = y != 0\n",
        "X = X[mask]\n",
        "y = y[mask]\n",
        "\n",
        "y[y == 1] = 0\n",
        "y[y == 2] = 1\n",
        "\n",
        "X = torch.FloatTensor(X)\n",
        "y = torch.FloatTensor(y)\n",
        "print(X.shape, y.shape)"
      ],
      "metadata": {
        "colab": {
          "base_uri": "https://localhost:8080/"
        },
        "id": "eVOV0VOyAY02",
        "outputId": "5a9d503d-ca60-4ff0-9c22-695382ae73a9"
      },
      "execution_count": 12,
      "outputs": [
        {
          "output_type": "stream",
          "name": "stdout",
          "text": [
            "torch.Size([100, 4]) torch.Size([100])\n"
          ]
        }
      ]
    },
    {
      "cell_type": "markdown",
      "source": [
        "## LogReg Loss:\n",
        "\n",
        "$$\n",
        "L_{\\mathrm{LogReg}}(\\mathbf{M}) = \\frac{1}{n_{\\mathrm{objects}}} \\sum_i^{n_{\\mathrm{objects}}} \\log(1 + \\exp\\left(-M_i\\right)) \n",
        "$$\n",
        "\n",
        "where:\n",
        "* $L_{\\mathrm{LogReg}} : \\mathbb{R}^{n_{\\mathrm{objects}}} → \\mathbb{R}^+$\n",
        "* $\\mathbf{M} = \\begin{pmatrix} M_1 \\\\ M_2 \\\\ ... \\\\ M_{n_{\\mathrm{objects}}} \\end{pmatrix} = \\begin{pmatrix} y_1 (\\mathbf{w}\\mathbf{x}_1^{\\mathrm{T}} + b) \\\\ y_2 (\\mathbf{w}\\mathbf{x}_2^{\\mathrm{T}} + b) \\\\ ... \\\\ y_{n_{\\mathrm{objects}}} (\\mathbf{w}\\mathbf{x}_{n_{\\mathrm{objects}}}^{\\mathrm{T}} + b) \\end{pmatrix} \\in \\mathbb{R}^{n_{\\mathrm{objects}}} $"
      ],
      "metadata": {
        "id": "LbPz8XZ6CUHJ"
      }
    },
    {
      "cell_type": "code",
      "source": [
        "f = torch.nn.Linear(4, 1)\n",
        "\n",
        "def loss_function(X, f, y):\n",
        "    margin = y * f(X).T\n",
        "    return torch.mean(torch.log(1 + torch.exp(-margin)))\n",
        "\n",
        "loss = loss_function(X, f, y)\n",
        "loss.backward()\n",
        "print(f.weight.grad, f.bias.grad)"
      ],
      "metadata": {
        "colab": {
          "base_uri": "https://localhost:8080/"
        },
        "id": "tomu79A5BV3L",
        "outputId": "fe619374-d4d7-4191-ed13-1217c6aeed7a"
      },
      "execution_count": 13,
      "outputs": [
        {
          "output_type": "stream",
          "name": "stdout",
          "text": [
            "tensor([[-2.9723, -1.3419, -2.5037, -0.9144]]) tensor([-0.4505])\n"
          ]
        }
      ]
    },
    {
      "cell_type": "markdown",
      "source": [
        "## Gradient descent (optimization)\n",
        "\n",
        "for i in 1 ... n_steps:\n",
        "1. Predict $\\hat y = f(X)$\n",
        "2. Calculate loss function $L(y, \\hat y)$\n",
        "3. Calculate loss gradients $\\frac{\\partial L}{\\partial w_i}$ and $\\frac{\\partial L}{\\partial b}$\n",
        "4. Update weights: $w_i \\rightarrow w_i - \\alpha \\frac{\\partial L}{\\partial w_i}$, $b \\rightarrow b - \\alpha \\frac{\\partial L}{\\partial b}$\n",
        "\n",
        "Learn more:\n",
        "* [torch.optim.SGD](https://pytorch.org/docs/stable/generated/torch.optim.SGD.html)\n",
        "* [torch.optim.Adam](https://pytorch.org/docs/stable/generated/torch.optim.Adam.html)"
      ],
      "metadata": {
        "id": "7zLmv4YlFHlK"
      }
    },
    {
      "cell_type": "code",
      "source": [
        "# lr (learning rate) is alpha; SGD - stochastic gradient descent\n",
        "f = torch.nn.Linear(4, 1)\n",
        "\n",
        "alpha = 0.001\n",
        "optimizer = torch.optim.SGD(f.parameters(), lr=alpha)\n",
        "\n",
        "# set gradients to zero to calculate new ones \n",
        "optimizer.zero_grad()\n",
        "\n",
        "# updating the gradients\n",
        "optimizer.step()\n",
        "\n",
        "for i in range(20):\n",
        "    loss = loss_function(X, f, y)\n",
        "    print(loss.item())\n",
        "    # optimizer.zero_grad()\n",
        "    loss.backward()\n",
        "    optimizer.step()"
      ],
      "metadata": {
        "colab": {
          "base_uri": "https://localhost:8080/"
        },
        "id": "DH-EXyb4JJE3",
        "outputId": "c820c5a3-4139-4d3a-d1bc-6ed8943d7787"
      },
      "execution_count": 14,
      "outputs": [
        {
          "output_type": "stream",
          "name": "stdout",
          "text": [
            "0.35733211040496826\n",
            "0.35732269287109375\n",
            "0.35730376839637756\n",
            "0.3572756052017212\n",
            "0.3572380840778351\n",
            "0.3571915030479431\n",
            "0.35713595151901245\n",
            "0.3570716083049774\n",
            "0.3569987118244171\n",
            "0.35691753029823303\n",
            "0.3568283021450043\n",
            "0.3567312955856323\n",
            "0.3566268980503082\n",
            "0.3565153479576111\n",
            "0.3563970923423767\n",
            "0.35627245903015137\n",
            "0.3561417758464813\n",
            "0.3560054898262024\n",
            "0.3558639585971832\n",
            "0.35571762919425964\n"
          ]
        }
      ]
    },
    {
      "cell_type": "markdown",
      "source": [
        "# Neural network notation\n",
        "* [torch.nn.Module](https://pytorch.org/docs/stable/generated/torch.nn.Module.html)"
      ],
      "metadata": {
        "id": "GAUNmGUpLCoP"
      }
    },
    {
      "cell_type": "code",
      "source": [
        "class Logistic_Regression(torch.nn.Module):\n",
        "    def __init__(self, in_size=4, out_size=1):\n",
        "        super().__init__()\n",
        "        self.layers = torch.nn.Sequential(\n",
        "                torch.nn.Linear(in_size, out_size),\n",
        "                torch.nn.Sigmoid(),\n",
        "            )\n",
        "    \n",
        "    def forward(self, x):\n",
        "        return self.layers(x)"
      ],
      "metadata": {
        "id": "4MWqv9oYKqVQ"
      },
      "execution_count": 15,
      "outputs": []
    },
    {
      "cell_type": "code",
      "source": [
        "model = Logistic_Regression()\n",
        "list(model.parameters())"
      ],
      "metadata": {
        "colab": {
          "base_uri": "https://localhost:8080/"
        },
        "id": "7ts6FnlLLuqJ",
        "outputId": "74bef903-4f7f-4b36-a7a7-19474547b6dd"
      },
      "execution_count": 16,
      "outputs": [
        {
          "output_type": "execute_result",
          "data": {
            "text/plain": [
              "[Parameter containing:\n",
              " tensor([[-0.3439, -0.4053,  0.0284,  0.3957]], requires_grad=True),\n",
              " Parameter containing:\n",
              " tensor([-0.2461], requires_grad=True)]"
            ]
          },
          "metadata": {},
          "execution_count": 16
        }
      ]
    },
    {
      "cell_type": "markdown",
      "source": [
        "## Data Loaders\n",
        "* [torch.utils.data](https://pytorch.org/docs/stable/data.html)"
      ],
      "metadata": {
        "id": "SY6Li0dMOHgC"
      }
    },
    {
      "cell_type": "code",
      "source": [
        "X_train, X_val_test, y_train, y_val_test = train_test_split(X, y, test_size=0.2, random_state=42)\n",
        "X_val, X_test, y_val, y_test = train_test_split(X_val_test, y_val_test, test_size=0.5, random_state=42)\n",
        "\n",
        "print(X_train.shape, X_val.shape, X_test.shape)"
      ],
      "metadata": {
        "colab": {
          "base_uri": "https://localhost:8080/"
        },
        "id": "OzQ4abmwOIGw",
        "outputId": "c6750d10-1526-48e0-d4e4-2e6fbcba2b86"
      },
      "execution_count": 17,
      "outputs": [
        {
          "output_type": "stream",
          "name": "stdout",
          "text": [
            "torch.Size([80, 4]) torch.Size([10, 4]) torch.Size([10, 4])\n"
          ]
        }
      ]
    },
    {
      "cell_type": "code",
      "source": [
        "plt.scatter(X_train[:, 0], X_train[:, 1], c=y_train, label='Train')\n",
        "plt.scatter(X_val[:, 0], X_val[:, 1], marker='D', c=y_val, label='Validation')\n",
        "plt.scatter(X_test[:, 0], X_test[:, 1], marker='_', c=y_test, label='Test')\n",
        "plt.xlabel(r'$x_1$')\n",
        "plt.ylabel(r'$x_2$')\n",
        "plt.legend()\n",
        "plt.show()"
      ],
      "metadata": {
        "colab": {
          "base_uri": "https://localhost:8080/",
          "height": 450
        },
        "id": "LJhswLPvfEyD",
        "outputId": "e04ee7df-68e0-4f82-cca9-db3ddefd1587"
      },
      "execution_count": 18,
      "outputs": [
        {
          "output_type": "display_data",
          "data": {
            "text/plain": [
              "<Figure size 640x480 with 1 Axes>"
            ],
            "image/png": "[encoded data removed]"
          },
          "metadata": {}
        }
      ]
    },
    {
      "cell_type": "code",
      "source": [
        "bs = 10  # batch_size\n",
        "\n",
        "train_data = TensorDataset(X_train, y_train)\n",
        "val_data = TensorDataset(X_val, y_val)\n",
        "test_data = TensorDataset(X_test, y_test)\n",
        "\n",
        "train_loader = DataLoader(train_data, batch_size=bs)\n",
        "val_loader = DataLoader(val_data, batch_size=bs)\n",
        "test_loader = DataLoader(test_data, batch_size=bs)"
      ],
      "metadata": {
        "id": "-_SHrupQO6Su"
      },
      "execution_count": 19,
      "outputs": []
    },
    {
      "cell_type": "code",
      "source": [
        "# usage\n",
        "for batch in test_loader:\n",
        "    _X, _y = batch\n",
        "    print(_X)\n",
        "    print(_y.unsqueeze(1))"
      ],
      "metadata": {
        "colab": {
          "base_uri": "https://localhost:8080/"
        },
        "id": "00qxHBHKP_vj",
        "outputId": "44a8177b-22a5-47c2-8b26-7f4be24bc7b2"
      },
      "execution_count": 20,
      "outputs": [
        {
          "output_type": "stream",
          "name": "stdout",
          "text": [
            "tensor([[6.3000, 2.8000, 5.1000, 1.5000],\n",
            "        [6.1000, 3.0000, 4.9000, 1.8000],\n",
            "        [6.5000, 2.8000, 4.6000, 1.5000],\n",
            "        [6.3000, 2.9000, 5.6000, 1.8000],\n",
            "        [5.0000, 2.0000, 3.5000, 1.0000],\n",
            "        [5.5000, 2.5000, 4.0000, 1.3000],\n",
            "        [5.5000, 2.4000, 3.8000, 1.1000],\n",
            "        [5.7000, 3.0000, 4.2000, 1.2000],\n",
            "        [6.0000, 2.2000, 4.0000, 1.0000],\n",
            "        [6.2000, 2.8000, 4.8000, 1.8000]])\n",
            "tensor([[1.],\n",
            "        [1.],\n",
            "        [0.],\n",
            "        [1.],\n",
            "        [0.],\n",
            "        [0.],\n",
            "        [0.],\n",
            "        [0.],\n",
            "        [0.],\n",
            "        [1.]])\n"
          ]
        }
      ]
    },
    {
      "cell_type": "markdown",
      "source": [
        "## Binary Cross Entropy (BCE) Loss\n",
        "\n",
        "$$\n",
        "L_{\\mathrm{BCE}} (\\mathbf{y}, \\hat{\\mathbf{y}}) = - \\frac{1}{n_{\\mathrm{objects}}} \\sum_i^{n_{\\mathrm{objects}}} \\left[y_i \\log(\\hat y_i) + (1-y_i) \\log(1-\\hat y_i) \\right]\n",
        "$$\n",
        "\n",
        "where\n",
        "* $\\mathbf{y} \\in \\{0, 1\\}^{n_{\\mathrm{objects}}}$\n",
        "* $\\hat{\\mathbf{y}} \\in (0, 1)^{n_{\\mathrm{objects}}}$\n",
        "\n",
        "Learn more:\n",
        "* [torch.nn.BCELoss](https://pytorch.org/docs/stable/generated/torch.nn.BCELoss.html)"
      ],
      "metadata": {
        "id": "9kqAQjsqMC4T"
      }
    },
    {
      "cell_type": "code",
      "source": [
        "def train(model, criterion, optimizer, n_epochs, n_stop=10):\n",
        "    train_loss = list()\n",
        "    val_loss = list()\n",
        "    min_val_loss = np.inf\n",
        "    f = 0\n",
        "    for epoch in tqdm(range(n_epochs)):\n",
        "        model.train()\n",
        "        train_batch_loss = list()\n",
        "        for batch in train_loader:\n",
        "            optimizer.zero_grad()\n",
        "            _X, _y = batch\n",
        "            _y_pred = model(_X)\n",
        "            loss = criterion(_y_pred, _y.unsqueeze(1))\n",
        "            loss.backward()\n",
        "            optimizer.step()\n",
        "            train_batch_loss.append(loss.item())\n",
        "\n",
        "        model.eval()\n",
        "        val_batch_loss = list()\n",
        "        for batch in val_loader:\n",
        "            _X, _y = batch\n",
        "            _y_pred = model(_X)\n",
        "            loss = criterion(_y_pred, _y.unsqueeze(1))\n",
        "            val_batch_loss.append(loss.item())\n",
        "\n",
        "        # print(f'Epoch: {epoch}, \\tTrain loss: {np.mean(train_batch_loss)}, \\tValidation loss: {np.mean(val_batch_loss)}')\n",
        "        train_loss.append(np.mean(train_batch_loss))\n",
        "        val_loss.append(np.mean(val_batch_loss))\n",
        "\n",
        "        # (optional) early stopping:\n",
        "\n",
        "        if val_loss[-1] > min_val_loss:\n",
        "            f = f + 1\n",
        "        else:\n",
        "            # print(f'epoch: {epoch}, val loss did decrease, saving model')\n",
        "            f = 0\n",
        "            best_model = deepcopy(model)\n",
        "            min_val_loss = val_loss[-1]\n",
        "        if f >= n_stop:\n",
        "            print(f'epoch: {epoch}, val loss did not decrease for {f} epoch(s)')\n",
        "            break\n",
        "\n",
        "    return best_model, train_loss, val_loss"
      ],
      "metadata": {
        "id": "4Q0q24e2Ww6v"
      },
      "execution_count": 21,
      "outputs": []
    },
    {
      "cell_type": "code",
      "source": [
        "model = Logistic_Regression()\n",
        "\n",
        "criterion = torch.nn.BCELoss()\n",
        "\n",
        "alpha = 0.001\n",
        "optimizer = torch.optim.Adam(model.parameters(), lr=alpha)\n",
        "\n",
        "model, train_loss, val_loss = train(model, criterion, optimizer, n_epochs=10000, n_stop=1000)"
      ],
      "metadata": {
        "colab": {
          "base_uri": "https://localhost:8080/"
        },
        "id": "xwssNo61W_YJ",
        "outputId": "0d5f5d03-589f-464b-d975-a3254901c544"
      },
      "execution_count": 35,
      "outputs": [
        {
          "output_type": "stream",
          "name": "stderr",
          "text": [
            " 36%|███▌      | 3605/10000 [00:27<00:48, 133.10it/s]"
          ]
        },
        {
          "output_type": "stream",
          "name": "stdout",
          "text": [
            "epoch: 3605, val loss did not decrease for 1000 epoch(s)\n"
          ]
        },
        {
          "output_type": "stream",
          "name": "stderr",
          "text": [
            "\n"
          ]
        }
      ]
    },
    {
      "cell_type": "code",
      "source": [
        "plt.plot(train_loss, label='train loss')\n",
        "plt.plot(val_loss, label='validation loss')\n",
        "plt.legend()\n",
        "plt.ylabel('BCE Loss')\n",
        "plt.xlabel('# of epoch')\n",
        "plt.show()"
      ],
      "metadata": {
        "colab": {
          "base_uri": "https://localhost:8080/",
          "height": 449
        },
        "id": "BNsmJ6E5S7_9",
        "outputId": "a9479584-ad8c-4498-ad6e-fdcf606ad331"
      },
      "execution_count": 36,
      "outputs": [
        {
          "output_type": "display_data",
          "data": {
            "text/plain": [
              "<Figure size 640x480 with 1 Axes>"
            ],
            "image/png": "[encoded data removed]"
          },
          "metadata": {}
        }
      ]
    },
    {
      "cell_type": "code",
      "source": [
        "with torch.no_grad():\n",
        "    for batch in test_loader:\n",
        "        _X, _y = batch\n",
        "        _y_pred = model(_X)\n",
        "        loss = criterion(_y_pred, _y.unsqueeze(1))\n",
        "        print(f'y: {_y.unsqueeze(1)}, \\ny_pred = {_y_pred}, \\nloss = {loss.item()}')"
      ],
      "metadata": {
        "colab": {
          "base_uri": "https://localhost:8080/"
        },
        "id": "ABwZwCrPNiiI",
        "outputId": "878d0787-e797-4b42-d4ae-c7df1bd25f56"
      },
      "execution_count": 37,
      "outputs": [
        {
          "output_type": "stream",
          "name": "stdout",
          "text": [
            "y: tensor([[1.],\n",
            "        [1.],\n",
            "        [0.],\n",
            "        [1.],\n",
            "        [0.],\n",
            "        [0.],\n",
            "        [0.],\n",
            "        [0.],\n",
            "        [0.],\n",
            "        [1.]]), \n",
            "y_pred = tensor([[0.4794],\n",
            "        [0.6591],\n",
            "        [0.2035],\n",
            "        [0.8924],\n",
            "        [0.0879],\n",
            "        [0.1597],\n",
            "        [0.0590],\n",
            "        [0.0432],\n",
            "        [0.0500],\n",
            "        [0.6887]]), \n",
            "loss = 0.22889406979084015\n"
          ]
        }
      ]
    },
    {
      "cell_type": "code",
      "source": [
        "pca = PCA(n_components=2)\n",
        "X_new = pca.fit_transform(X)\n",
        "feature_1, feature_2 = np.meshgrid(\n",
        "    np.linspace(X_new[:, 0].min(), X_new[:, 0].max()),\n",
        "    np.linspace(X_new[:, 1].min(), X_new[:, 1].max()),\n",
        ")\n",
        "grid = np.vstack([feature_1.ravel(), feature_2.ravel()]).T\n",
        "y_pred = model(torch.Tensor(pca.inverse_transform(grid)))\n",
        "y_pred = np.reshape(y_pred.detach().numpy(), feature_1.shape)\n",
        "display = DecisionBoundaryDisplay(\n",
        "    xx0=feature_1, xx1=feature_2, response=y_pred\n",
        ")\n",
        "display.plot()\n",
        "X_new_train = pca.transform(X_train)\n",
        "X_new_val = pca.transform(X_val)\n",
        "X_new_test = pca.transform(X_test)\n",
        "display.ax_.scatter(X_new_train[:, 0], X_new_train[:, 1], c=y_train, cmap='inferno_r')\n",
        "display.ax_.scatter(X_new_val[:, 0], X_new_val[:, 1], c=y_val, marker='D', cmap='inferno_r')\n",
        "display.ax_.scatter(X_new_test[:, 0], X_new_test[:, 1], c=y_test, marker='_', cmap='inferno_r')"
      ],
      "metadata": {
        "colab": {
          "base_uri": "https://localhost:8080/",
          "height": 448
        },
        "id": "nXdhU6IhgHBC",
        "outputId": "fd636288-9320-4acd-a6f4-93e129b826a5"
      },
      "execution_count": 25,
      "outputs": [
        {
          "output_type": "execute_result",
          "data": {
            "text/plain": [
              "<matplotlib.collections.PathCollection at 0x7f2cf34d9490>"
            ]
          },
          "metadata": {},
          "execution_count": 25
        },
        {
          "output_type": "display_data",
          "data": {
            "text/plain": [
              "<Figure size 640x480 with 1 Axes>"
            ],
            "image/png": "[encoded data removed]"
          },
          "metadata": {}
        }
      ]
    },
    {
      "cell_type": "markdown",
      "source": [
        "# Investigation of Neural Network architecture\n",
        "\n",
        "Learn more:\n",
        "* [torchviz](https://github.com/szagoruyko/pytorchviz)\n",
        "* [torchsummary](https://github.com/sksq96/pytorch-summary)"
      ],
      "metadata": {
        "id": "7AbFceaBVjOl"
      }
    },
    {
      "cell_type": "code",
      "source": [
        "%pip install -q -U git+https://github.com/szagoruyko/pytorchviz.git@master\n",
        "from torchviz import make_dot\n",
        "from torchsummary import summary"
      ],
      "metadata": {
        "colab": {
          "base_uri": "https://localhost:8080/"
        },
        "id": "nduhuYHfU7nU",
        "outputId": "2b9dbe38-181b-4181-c808-a502f3c22581"
      },
      "execution_count": 26,
      "outputs": [
        {
          "output_type": "stream",
          "name": "stdout",
          "text": [
            "  Preparing metadata (setup.py) ... \u001b[?25l\u001b[?25hdone\n"
          ]
        }
      ]
    },
    {
      "cell_type": "code",
      "source": [
        "print(X_train.shape)"
      ],
      "metadata": {
        "colab": {
          "base_uri": "https://localhost:8080/"
        },
        "id": "dwphRWJ9WnNM",
        "outputId": "da3394b4-0776-4c18-890e-3e6b6b7f3e02"
      },
      "execution_count": 27,
      "outputs": [
        {
          "output_type": "stream",
          "name": "stdout",
          "text": [
            "torch.Size([80, 4])\n"
          ]
        }
      ]
    },
    {
      "cell_type": "code",
      "source": [
        "summary(model, input_size=X_train.shape)"
      ],
      "metadata": {
        "colab": {
          "base_uri": "https://localhost:8080/"
        },
        "id": "eLePbfhHV_tD",
        "outputId": "248e5a8c-1cd1-4952-fc4b-7b557a9dc38a"
      },
      "execution_count": 28,
      "outputs": [
        {
          "output_type": "stream",
          "name": "stdout",
          "text": [
            "----------------------------------------------------------------\n",
            "        Layer (type)               Output Shape         Param #\n",
            "================================================================\n",
            "            Linear-1                [-1, 80, 1]               5\n",
            "           Sigmoid-2                [-1, 80, 1]               0\n",
            "================================================================\n",
            "Total params: 5\n",
            "Trainable params: 5\n",
            "Non-trainable params: 0\n",
            "----------------------------------------------------------------\n",
            "Input size (MB): 0.00\n",
            "Forward/backward pass size (MB): 0.00\n",
            "Params size (MB): 0.00\n",
            "Estimated Total Size (MB): 0.00\n",
            "----------------------------------------------------------------\n"
          ]
        }
      ]
    },
    {
      "cell_type": "code",
      "source": [
        "make_dot(model(X_train), params=dict(model.named_parameters()))"
      ],
      "metadata": {
        "colab": {
          "base_uri": "https://localhost:8080/",
          "height": 469
        },
        "id": "wd4y0CusVzNB",
        "outputId": "4ef7e6fa-9ea7-486a-b143-f10afc1e035f"
      },
      "execution_count": 29,
      "outputs": [
        {
          "output_type": "execute_result",
          "data": {
            "image/svg+xml": "<?xml version=\"1.0\" encoding=\"UTF-8\" standalone=\"no\"?>\n<!DOCTYPE svg PUBLIC \"-//W3C//DTD SVG 1.1//EN\"\n \"http://www.w3.org/Graphics/SVG/1.1/DTD/svg11.dtd\">\n<!-- Generated by graphviz version 2.43.0 (0)\n -->\n<!-- Title: %3 Pages: 1 -->\n<svg width=\"226pt\" height=\"336pt\"\n viewBox=\"0.00 0.00 226.00 336.00\" xmlns=\"http://www.w3.org/2000/svg\" xmlns:xlink=\"http://www.w3.org/1999/xlink\">\n<g id=\"graph0\" class=\"graph\" transform=\"scale(1 1) rotate(0) translate(4 332)\">\n<title>%3</title>\n<polygon fill=\"white\" stroke=\"transparent\" points=\"-4,4 -4,-332 222,-332 222,4 -4,4\"/>\n<!-- 139831036501584 -->\n<g id=\"node1\" class=\"node\">\n<title>139831036501584</title>\n<polygon fill=\"#caff70\" stroke=\"black\" points=\"138,-31 73,-31 73,0 138,0 138,-31\"/>\n<text text-anchor=\"middle\" x=\"105.5\" y=\"-7\" font-family=\"monospace\" font-size=\"10.00\"> (80, 1)</text>\n</g>\n<!-- 139831037403584 -->\n<g id=\"node2\" class=\"node\">\n<title>139831037403584</title>\n<polygon fill=\"lightgrey\" stroke=\"black\" points=\"162,-86 49,-86 49,-67 162,-67 162,-86\"/>\n<text text-anchor=\"middle\" x=\"105.5\" y=\"-74\" font-family=\"monospace\" font-size=\"10.00\">SigmoidBackward0</text>\n</g>\n<!-- 139831037403584&#45;&gt;139831036501584 -->\n<g id=\"edge7\" class=\"edge\">\n<title>139831037403584&#45;&gt;139831036501584</title>\n<path fill=\"none\" stroke=\"black\" d=\"M105.5,-66.79C105.5,-60.07 105.5,-50.4 105.5,-41.34\"/>\n<polygon fill=\"black\" stroke=\"black\" points=\"109,-41.19 105.5,-31.19 102,-41.19 109,-41.19\"/>\n</g>\n<!-- 139831037407088 -->\n<g id=\"node3\" class=\"node\">\n<title>139831037407088</title>\n<polygon fill=\"lightgrey\" stroke=\"black\" points=\"156,-141 55,-141 55,-122 156,-122 156,-141\"/>\n<text text-anchor=\"middle\" x=\"105.5\" y=\"-129\" font-family=\"monospace\" font-size=\"10.00\">AddmmBackward0</text>\n</g>\n<!-- 139831037407088&#45;&gt;139831037403584 -->\n<g id=\"edge1\" class=\"edge\">\n<title>139831037407088&#45;&gt;139831037403584</title>\n<path fill=\"none\" stroke=\"black\" d=\"M105.5,-121.75C105.5,-114.8 105.5,-104.85 105.5,-96.13\"/>\n<polygon fill=\"black\" stroke=\"black\" points=\"109,-96.09 105.5,-86.09 102,-96.09 109,-96.09\"/>\n</g>\n<!-- 139831037406752 -->\n<g id=\"node4\" class=\"node\">\n<title>139831037406752</title>\n<polygon fill=\"lightgrey\" stroke=\"black\" points=\"101,-196 0,-196 0,-177 101,-177 101,-196\"/>\n<text text-anchor=\"middle\" x=\"50.5\" y=\"-184\" font-family=\"monospace\" font-size=\"10.00\">AccumulateGrad</text>\n</g>\n<!-- 139831037406752&#45;&gt;139831037407088 -->\n<g id=\"edge2\" class=\"edge\">\n<title>139831037406752&#45;&gt;139831037407088</title>\n<path fill=\"none\" stroke=\"black\" d=\"M59.58,-176.75C67.59,-169.03 79.46,-157.6 89.12,-148.28\"/>\n<polygon fill=\"black\" stroke=\"black\" points=\"91.81,-150.55 96.59,-141.09 86.96,-145.51 91.81,-150.55\"/>\n</g>\n<!-- 139831081559520 -->\n<g id=\"node5\" class=\"node\">\n<title>139831081559520</title>\n<polygon fill=\"lightblue\" stroke=\"black\" points=\"96,-262 1,-262 1,-232 96,-232 96,-262\"/>\n<text text-anchor=\"middle\" x=\"48.5\" y=\"-250\" font-family=\"monospace\" font-size=\"10.00\">layers.0.bias</text>\n<text text-anchor=\"middle\" x=\"48.5\" y=\"-239\" font-family=\"monospace\" font-size=\"10.00\"> (1)</text>\n</g>\n<!-- 139831081559520&#45;&gt;139831037406752 -->\n<g id=\"edge3\" class=\"edge\">\n<title>139831081559520&#45;&gt;139831037406752</title>\n<path fill=\"none\" stroke=\"black\" d=\"M48.98,-231.84C49.24,-224.21 49.57,-214.7 49.85,-206.45\"/>\n<polygon fill=\"black\" stroke=\"black\" points=\"53.36,-206.38 50.2,-196.27 46.36,-206.14 53.36,-206.38\"/>\n</g>\n<!-- 139831037403392 -->\n<g id=\"node6\" class=\"node\">\n<title>139831037403392</title>\n<polygon fill=\"lightgrey\" stroke=\"black\" points=\"200,-196 123,-196 123,-177 200,-177 200,-196\"/>\n<text text-anchor=\"middle\" x=\"161.5\" y=\"-184\" font-family=\"monospace\" font-size=\"10.00\">TBackward0</text>\n</g>\n<!-- 139831037403392&#45;&gt;139831037407088 -->\n<g id=\"edge4\" class=\"edge\">\n<title>139831037403392&#45;&gt;139831037407088</title>\n<path fill=\"none\" stroke=\"black\" d=\"M152.5,-176.98C144.31,-169.23 131.99,-157.58 122.03,-148.14\"/>\n<polygon fill=\"black\" stroke=\"black\" points=\"124.33,-145.5 114.66,-141.17 119.52,-150.59 124.33,-145.5\"/>\n</g>\n<!-- 139831037404640 -->\n<g id=\"node7\" class=\"node\">\n<title>139831037404640</title>\n<polygon fill=\"lightgrey\" stroke=\"black\" points=\"215,-256.5 114,-256.5 114,-237.5 215,-237.5 215,-256.5\"/>\n<text text-anchor=\"middle\" x=\"164.5\" y=\"-244.5\" font-family=\"monospace\" font-size=\"10.00\">AccumulateGrad</text>\n</g>\n<!-- 139831037404640&#45;&gt;139831037403392 -->\n<g id=\"edge5\" class=\"edge\">\n<title>139831037404640&#45;&gt;139831037403392</title>\n<path fill=\"none\" stroke=\"black\" d=\"M164.06,-237.37C163.64,-229.25 163,-216.81 162.47,-206.39\"/>\n<polygon fill=\"black\" stroke=\"black\" points=\"165.95,-205.97 161.94,-196.17 158.96,-206.33 165.95,-205.97\"/>\n</g>\n<!-- 139831081561680 -->\n<g id=\"node8\" class=\"node\">\n<title>139831081561680</title>\n<polygon fill=\"lightblue\" stroke=\"black\" points=\"218,-328 111,-328 111,-298 218,-298 218,-328\"/>\n<text text-anchor=\"middle\" x=\"164.5\" y=\"-316\" font-family=\"monospace\" font-size=\"10.00\">layers.0.weight</text>\n<text text-anchor=\"middle\" x=\"164.5\" y=\"-305\" font-family=\"monospace\" font-size=\"10.00\"> (1, 4)</text>\n</g>\n<!-- 139831081561680&#45;&gt;139831037404640 -->\n<g id=\"edge6\" class=\"edge\">\n<title>139831081561680&#45;&gt;139831037404640</title>\n<path fill=\"none\" stroke=\"black\" d=\"M164.5,-297.8C164.5,-288.7 164.5,-276.79 164.5,-266.9\"/>\n<polygon fill=\"black\" stroke=\"black\" points=\"168,-266.84 164.5,-256.84 161,-266.84 168,-266.84\"/>\n</g>\n</g>\n</svg>\n",
            "text/plain": [
              "<graphviz.graphs.Digraph at 0x7f2cf3502190>"
            ]
          },
          "metadata": {},
          "execution_count": 29
        }
      ]
    },
    {
      "cell_type": "markdown",
      "source": [
        "# Stack more layers"
      ],
      "metadata": {
        "id": "grCoqYz-ZadX"
      }
    },
    {
      "cell_type": "code",
      "source": [
        "class Logistic_Regression_Five_Layers(torch.nn.Module):\n",
        "    def __init__(self, in_size=4, out_size=1):\n",
        "        super().__init__()\n",
        "        self.layers = torch.nn.Sequential(\n",
        "                torch.nn.Linear(in_size, 8),\n",
        "                torch.nn.Sigmoid(),\n",
        "                torch.nn.Linear(8, 16),\n",
        "                torch.nn.Sigmoid(),\n",
        "                torch.nn.Linear(16, 8),\n",
        "                torch.nn.Sigmoid(),\n",
        "                torch.nn.Linear(8, 4),\n",
        "                torch.nn.Sigmoid(),\n",
        "                torch.nn.Linear(4, out_size),\n",
        "                torch.nn.Sigmoid()\n",
        "            )\n",
        "    \n",
        "    def forward(self, x):\n",
        "        return self.layers(x)"
      ],
      "metadata": {
        "id": "wmwy-hLWV3nE"
      },
      "execution_count": 30,
      "outputs": []
    },
    {
      "cell_type": "code",
      "source": [
        "model = Logistic_Regression_Five_Layers()\n",
        "summary(model, input_size=X_train.shape)"
      ],
      "metadata": {
        "colab": {
          "base_uri": "https://localhost:8080/"
        },
        "id": "e9qGyqViZFaW",
        "outputId": "91e1a488-1239-4015-edfa-3866468e0db0"
      },
      "execution_count": 31,
      "outputs": [
        {
          "output_type": "stream",
          "name": "stdout",
          "text": [
            "----------------------------------------------------------------\n",
            "        Layer (type)               Output Shape         Param #\n",
            "================================================================\n",
            "            Linear-1                [-1, 80, 8]              40\n",
            "           Sigmoid-2                [-1, 80, 8]               0\n",
            "            Linear-3               [-1, 80, 16]             144\n",
            "           Sigmoid-4               [-1, 80, 16]               0\n",
            "            Linear-5                [-1, 80, 8]             136\n",
            "           Sigmoid-6                [-1, 80, 8]               0\n",
            "            Linear-7                [-1, 80, 4]              36\n",
            "           Sigmoid-8                [-1, 80, 4]               0\n",
            "            Linear-9                [-1, 80, 1]               5\n",
            "          Sigmoid-10                [-1, 80, 1]               0\n",
            "================================================================\n",
            "Total params: 361\n",
            "Trainable params: 361\n",
            "Non-trainable params: 0\n",
            "----------------------------------------------------------------\n",
            "Input size (MB): 0.00\n",
            "Forward/backward pass size (MB): 0.05\n",
            "Params size (MB): 0.00\n",
            "Estimated Total Size (MB): 0.05\n",
            "----------------------------------------------------------------\n"
          ]
        }
      ]
    },
    {
      "cell_type": "code",
      "source": [
        "model = Logistic_Regression_Five_Layers()\n",
        "\n",
        "criterion = torch.nn.BCELoss()\n",
        "\n",
        "alpha = 0.001\n",
        "optimizer = torch.optim.Adam(model.parameters(), lr=alpha)\n",
        "\n",
        "model, train_loss, val_loss = train(model, criterion, optimizer, n_epochs=10000, n_stop=1000)"
      ],
      "metadata": {
        "colab": {
          "base_uri": "https://localhost:8080/"
        },
        "id": "ztUUe0_1Ze-f",
        "outputId": "711beb8f-d36a-4256-8544-bfd9701420fd"
      },
      "execution_count": 32,
      "outputs": [
        {
          "output_type": "stream",
          "name": "stderr",
          "text": [
            " 14%|█▍        | 1388/10000 [00:35<03:38, 39.46it/s]"
          ]
        },
        {
          "output_type": "stream",
          "name": "stdout",
          "text": [
            "epoch: 1388, val loss did not decrease for 1000 epoch(s)\n"
          ]
        },
        {
          "output_type": "stream",
          "name": "stderr",
          "text": [
            "\n"
          ]
        }
      ]
    },
    {
      "cell_type": "code",
      "source": [
        "plt.plot(train_loss, label='train loss')\n",
        "plt.plot(val_loss, label='validation loss')\n",
        "plt.legend()\n",
        "plt.ylabel('BCE Loss')\n",
        "plt.xlabel('# of epoch')\n",
        "plt.show()"
      ],
      "metadata": {
        "colab": {
          "base_uri": "https://localhost:8080/",
          "height": 449
        },
        "id": "1ovTQ3nQZn6t",
        "outputId": "d625de6c-a601-4a28-a2bd-892ade13ed4f"
      },
      "execution_count": 33,
      "outputs": [
        {
          "output_type": "display_data",
          "data": {
            "text/plain": [
              "<Figure size 640x480 with 1 Axes>"
            ],
            "image/png": "[encoded data removed]"
          },
          "metadata": {}
        }
      ]
    },
    {
      "cell_type": "code",
      "source": [
        "pca = PCA(n_components=2)\n",
        "X_new = pca.fit_transform(X)\n",
        "feature_1, feature_2 = np.meshgrid(\n",
        "    np.linspace(X_new[:, 0].min(), X_new[:, 0].max()),\n",
        "    np.linspace(X_new[:, 1].min(), X_new[:, 1].max()),\n",
        ")\n",
        "grid = np.vstack([feature_1.ravel(), feature_2.ravel()]).T\n",
        "y_pred = model(torch.Tensor(pca.inverse_transform(grid)))\n",
        "y_pred = np.reshape(y_pred.detach().numpy(), feature_1.shape)\n",
        "display = DecisionBoundaryDisplay(\n",
        "    xx0=feature_1, xx1=feature_2, response=y_pred\n",
        ")\n",
        "display.plot()\n",
        "X_new_train = pca.transform(X_train)\n",
        "X_new_val = pca.transform(X_val)\n",
        "X_new_test = pca.transform(X_test)\n",
        "display.ax_.scatter(X_new_train[:, 0], X_new_train[:, 1], c=y_train, cmap='inferno_r')\n",
        "display.ax_.scatter(X_new_val[:, 0], X_new_val[:, 1], c=y_val, marker='D', cmap='inferno_r')\n",
        "display.ax_.scatter(X_new_test[:, 0], X_new_test[:, 1], c=y_test, marker='_', cmap='inferno_r')"
      ],
      "metadata": {
        "colab": {
          "base_uri": "https://localhost:8080/",
          "height": 448
        },
        "id": "9LCE-ruuZpnZ",
        "outputId": "81e176c1-b536-4039-898f-01f7a3dd57be"
      },
      "execution_count": 34,
      "outputs": [
        {
          "output_type": "execute_result",
          "data": {
            "text/plain": [
              "<matplotlib.collections.PathCollection at 0x7f2cf3351640>"
            ]
          },
          "metadata": {},
          "execution_count": 34
        },
        {
          "output_type": "display_data",
          "data": {
            "text/plain": [
              "<Figure size 640x480 with 1 Axes>"
            ],
            "image/png": "[encoded data removed]"
          },
          "metadata": {}
        }
      ]
    },
    {
      "cell_type": "code",
      "source": [],
      "metadata": {
        "id": "AI7FuMXgiiSK"
      },
      "execution_count": 34,
      "outputs": []
    }
  ]
}