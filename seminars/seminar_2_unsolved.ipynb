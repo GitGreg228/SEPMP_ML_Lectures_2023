{
  "nbformat": 4,
  "nbformat_minor": 0,
  "metadata": {
    "colab": {
      "provenance": []
    },
    "kernelspec": {
      "name": "python3",
      "display_name": "Python 3"
    },
    "language_info": {
      "name": "python"
    }
  },
  "cells": [
    {
      "cell_type": "markdown",
      "source": [
        "<a href=\"https://colab.research.google.com/github/GitGreg228/sepmp_ml_2023/blob/main/seminars/seminar_2_unsolved.ipynb\" target=\"_parent\"><img src=\"https://colab.research.google.com/assets/colab-badge.svg\" alt=\"Open In Colab\"/></a>"
      ],
      "metadata": {
        "id": "fLjKlrUzEo5K"
      }
    },
    {
      "cell_type": "code",
      "execution_count": null,
      "metadata": {
        "id": "WjrGt2x6mPhg"
      },
      "outputs": [],
      "source": [
        "import matplotlib.pyplot as plt\n",
        "import numpy as np\n",
        "import pandas as pd\n",
        "import seaborn as sns\n",
        "\n",
        "from copy import deepcopy\n",
        "from sklearn.linear_model import LogisticRegression\n",
        "from sklearn.ensemble import RandomForestClassifier\n",
        "from sklearn.model_selection import train_test_split\n",
        "from sklearn.metrics import RocCurveDisplay, roc_curve, auc\n",
        "from sklearn.metrics import ConfusionMatrixDisplay, confusion_matrix\n",
        "from sklearn.tree import DecisionTreeClassifier\n",
        "from sklearn.neighbors import KNeighborsClassifier\n",
        "from sklearn.decomposition import PCA\n",
        "\n",
        "font = {'size'   : 15}\n",
        "plt.matplotlib.rc('font', **font)"
      ]
    },
    {
      "cell_type": "code",
      "source": [
        "def normalize(X_in, a=0, b=1):\n",
        "    return (b - a) * (X_in - np.min(X_in)) / (np.max(X_in) - np.min(X_in)) + a"
      ],
      "metadata": {
        "id": "exl6D20rx8z4"
      },
      "execution_count": null,
      "outputs": []
    },
    {
      "cell_type": "markdown",
      "source": [
        "# Download the data"
      ],
      "metadata": {
        "id": "Qd8hnVgFoUxd"
      }
    },
    {
      "cell_type": "markdown",
      "source": [
        "* Survival - Survival (0 = No; 1 = Yes). Not included in test.csv file.\n",
        "* Pclass - Passenger Class (1 = 1st; 2 = 2nd; 3 = 3rd)\n",
        "* Name - Name\n",
        "* Sex - Sex\n",
        "* Age - Age\n",
        "* Sibsp - Number of Siblings/Spouses Aboard\n",
        "* Parch - Number of Parents/Children Aboard\n",
        "* Ticket - Ticket Number\n",
        "* Fare - Passenger Fare\n",
        "* Cabin - Cabin\n",
        "* Embarked - Port of Embarkation (C = Cherbourg; Q = Queenstown; S = Southampton)"
      ],
      "metadata": {
        "id": "sIbm2sKapoVv"
      }
    },
    {
      "cell_type": "code",
      "source": [
        "!wget --load-cookies /tmp/cookies.txt \"https://docs.google.com/uc?export=download&confirm=$(wget --quiet --save-cookies /tmp/cookies.txt --keep-session-cookies --no-check-certificate 'https://docs.google.com/uc?export=download&id=1diQwKhuDDGoGfMGpESAiqvgESU3vXEdJ' -O- | sed -rn 's/.*confirm=([0-9A-Za-z_]+).*/\\1\\n/p')&id=1diQwKhuDDGoGfMGpESAiqvgESU3vXEdJ\" -O titanic.zip && rm -rf /tmp/cookies.txt"
      ],
      "metadata": {
        "id": "pl9j58qsnikG"
      },
      "execution_count": null,
      "outputs": []
    },
    {
      "cell_type": "code",
      "source": [
        "!unzip titanic.zip"
      ],
      "metadata": {
        "id": "JprZMBwDnirF"
      },
      "execution_count": null,
      "outputs": []
    },
    {
      "cell_type": "code",
      "source": [
        "train = pd.read_csv('train.csv')\n",
        "display(train)"
      ],
      "metadata": {
        "id": "zD4r0uBKosX8"
      },
      "execution_count": null,
      "outputs": []
    },
    {
      "cell_type": "code",
      "source": [
        "survived = train['Survived'].values == 1\n",
        "died = train['Survived'].values == 0"
      ],
      "metadata": {
        "id": "5_SLBf9_oo_N"
      },
      "execution_count": null,
      "outputs": []
    },
    {
      "cell_type": "markdown",
      "source": [
        "Plot hist"
      ],
      "metadata": {
        "id": "ITQLrKRGwglV"
      }
    },
    {
      "cell_type": "code",
      "source": [
        "def plot_feature_hist(feature_name, ax):\n",
        "    ax.set_title(feature_name)\n",
        "    x = train[feature_name]\n",
        "    ax.hist(x, alpha=0.5, label='Total')\n",
        "    ax.hist(x[died], alpha=0.5, label='Died')\n",
        "    ax.hist(x[survived], alpha=0.5, label='Survived')\n",
        "    ax.legend()"
      ],
      "metadata": {
        "id": "X-3dw5Iko70k"
      },
      "execution_count": null,
      "outputs": []
    },
    {
      "cell_type": "code",
      "source": [
        "fig, axs = plt.subplots(2, 3, figsize=(16, 8))\n",
        "\n",
        "feature_name_lst = ['Age', 'Pclass', 'SibSp', 'Parch', 'Fare', 'PassengerId']\n",
        "for i, feature_name in enumerate(feature_name_lst):\n",
        "    ax = axs.ravel()[i]\n",
        "    plot_feature_hist(feature_name, ax)\n",
        "\n",
        "plt.tight_layout()"
      ],
      "metadata": {
        "id": "FHMNjE8XpTTN"
      },
      "execution_count": null,
      "outputs": []
    },
    {
      "cell_type": "markdown",
      "source": [
        "print unique values"
      ],
      "metadata": {
        "id": "H54V13AV12Vd"
      }
    },
    {
      "cell_type": "code",
      "source": [
        "feature_name_lst = ['Pclass', 'SibSp', 'Parch', 'Sex', 'Embarked']\n",
        "for feature_name in feature_name_lst:\n",
        "    X = train[feature_name].astype(str)\n",
        "    print(np.unique(X))"
      ],
      "metadata": {
        "id": "ngh_iJiB12FC"
      },
      "execution_count": null,
      "outputs": []
    },
    {
      "cell_type": "markdown",
      "source": [
        "count nans"
      ],
      "metadata": {
        "id": "kdU1PBio-kGI"
      }
    },
    {
      "cell_type": "code",
      "source": [
        "def count_nans(feature_name):\n",
        "    n_nans = np.count_nonzero(np.isnan(train[feature_name]))\n",
        "    not_nans = np.count_nonzero(~np.isnan(train[feature_name]))\n",
        "    if n_nans > 0:\n",
        "        print(f'{feature_name}: {n_nans} NaNs out of {not_nans + n_nans}')\n",
        "    else:\n",
        "        print(f'{feature_name}: no NaNs')"
      ],
      "metadata": {
        "id": "Es42XVhdu-jg"
      },
      "execution_count": null,
      "outputs": []
    },
    {
      "cell_type": "code",
      "source": [
        "feature_name_lst = ['Age', 'Pclass', 'SibSp', 'Parch', 'Fare', 'PassengerId'] # list(train.keys()) \n",
        "for feature_name in feature_name_lst:\n",
        "    count_nans(feature_name)"
      ],
      "metadata": {
        "id": "uSqQYdH2vsUA"
      },
      "execution_count": null,
      "outputs": []
    },
    {
      "cell_type": "markdown",
      "source": [
        "# Task 1:\n",
        "## Perform Logistic Regression\n",
        "Create feature vector containing Age, Pclass, SibSp, Parch, Fare and do a classification via LogisticRegression\n",
        "\n",
        "Documentation:\n",
        "\n",
        "* [Logistic Regression](https://scikit-learn.org/stable/modules/generated/sklearn.linear_model.LogisticRegression.html#sklearn.linear_model.LogisticRegression)\n",
        "\n",
        "Lecture codes:\n",
        "\n",
        "* [GitHub](https://github.com/GitGreg228/sepmp_ml_2023/tree/main/lecture_codes)"
      ],
      "metadata": {
        "id": "pfAXazN4tQrd"
      }
    },
    {
      "cell_type": "code",
      "source": [
        "def nans_to_zeros(input_array):\n",
        "    mask = np.isnan(input_array)\n",
        "    input_array[mask] = 0\n",
        "    return input_array"
      ],
      "metadata": {
        "id": "h0XrLf0W8PKx"
      },
      "execution_count": null,
      "outputs": []
    },
    {
      "cell_type": "code",
      "source": [
        "train = pd.read_csv('train.csv')\n",
        "\n",
        "train['Age'] = nans_to_zeros(train['Age'].values)\n",
        "X = # YOUR CODE HERE\n",
        "y = # YOUR CODE HERE\n",
        "\n",
        "X_train, X_test, y_train, y_test = # YOUR CODE HERE"
      ],
      "metadata": {
        "id": "GjcTIZ2Upe79"
      },
      "execution_count": null,
      "outputs": []
    },
    {
      "cell_type": "code",
      "source": [
        "clf = # YOUR CODE HERE"
      ],
      "metadata": {
        "id": "S-DK_kHYtpSS"
      },
      "execution_count": null,
      "outputs": []
    },
    {
      "cell_type": "markdown",
      "source": [
        "## Plot ROC curve and calculate AUC\n",
        "\n",
        "Documentation:\n",
        "\n",
        "* [ROC curve](https://scikit-learn.org/stable/modules/generated/sklearn.metrics.roc_curve.html)\n",
        "* [AUC](https://scikit-learn.org/stable/modules/generated/sklearn.metrics.auc.html)"
      ],
      "metadata": {
        "id": "4FpJY-XhAQd6"
      }
    },
    {
      "cell_type": "code",
      "source": [
        "def plot_roc(clf, ax, title=''):\n",
        "    if title:\n",
        "        ax.set_title(title)\n",
        "    # YOUR CODE HERE\n",
        "    ax.set_xlabel('FPR')\n",
        "    ax.set_ylabel('TPR')\n",
        "    ax.legend()"
      ],
      "metadata": {
        "id": "bJ4Tpw54xY9o"
      },
      "execution_count": null,
      "outputs": []
    },
    {
      "cell_type": "code",
      "source": [
        "fig, ax = plt.subplots(1, 1, figsize=(5, 5))\n",
        "plot_roc(clf, ax, title='LogReg')"
      ],
      "metadata": {
        "id": "dMeuHEtaDX9M"
      },
      "execution_count": null,
      "outputs": []
    },
    {
      "cell_type": "markdown",
      "source": [
        "# Task 2\n",
        "## Add other features\n",
        "\n",
        "Convert 'Sex' and 'Embarked' to numbers and add to dataset\n",
        "\n",
        "Write a function that converts `['female', 'male', 'female', 'female', 'nan']` into `[1, 0, 1, 1, '2']`"
      ],
      "metadata": {
        "id": "IphMZLGC4EJv"
      }
    },
    {
      "cell_type": "code",
      "source": [
        "def str_to_int(input_array):\n",
        "    # YOUR CODE HERE\n",
        "    return output_array"
      ],
      "metadata": {
        "id": "NNAsQnJC4ECS"
      },
      "execution_count": null,
      "outputs": []
    },
    {
      "cell_type": "code",
      "source": [
        "train = pd.read_csv('train.csv')\n",
        "\n",
        "train['Sex'] = str_to_int(train['Sex'])\n",
        "train['Embarked'] = str_to_int(train['Embarked'])\n",
        "train['Age'] = nans_to_zeros(train['Age'].values)\n",
        "X = # YOUR CODE HERE\n",
        "y = # YOUR CODE HERE\n",
        "\n",
        "X_train, X_test, y_train, y_test = # YOUR CODE HERE"
      ],
      "metadata": {
        "id": "r5S9u6On0T5v"
      },
      "execution_count": null,
      "outputs": []
    },
    {
      "cell_type": "code",
      "source": [
        "clf = # YOUR CODE HERE"
      ],
      "metadata": {
        "id": "UnE4vov65Mt1"
      },
      "execution_count": null,
      "outputs": []
    },
    {
      "cell_type": "code",
      "source": [
        "fig, ax = plt.subplots(1, 1, figsize=(5, 5))\n",
        "plot_roc(clf, ax, title='LogReg+features')"
      ],
      "metadata": {
        "id": "97uBNSCB7Ght"
      },
      "execution_count": null,
      "outputs": []
    },
    {
      "cell_type": "markdown",
      "source": [
        "# Task 3\n",
        "## Try other classifiers, reach AUC > 0.89 on test\n",
        "\n",
        "Documentation:\n",
        "\n",
        "* [Decision Tree](https://scikit-learn.org/stable/modules/generated/sklearn.tree.DecisionTreeClassifier.html) - at which `max_depth` does the overfitting occur?\n",
        "* [KNeighborsClassifier](https://scikit-learn.org/stable/modules/generated/sklearn.neighbors.KNeighborsClassifier.html) - at which `n_neighbors` does the overfitting occur?\n",
        "* [Random Forest](https://scikit-learn.org/stable/modules/generated/sklearn.ensemble.RandomForestClassifier.html) - at which parameter values does the overfitting occur?"
      ],
      "metadata": {
        "id": "1gKZXe6F9V1i"
      }
    },
    {
      "cell_type": "code",
      "source": [
        "# YOUR CODE HERE"
      ],
      "metadata": {
        "id": "83NTE-_ABlRD"
      },
      "execution_count": null,
      "outputs": []
    },
    {
      "cell_type": "code",
      "source": [
        "# YOUR CODE HERE"
      ],
      "metadata": {
        "id": "Npnqo9I2AbQz"
      },
      "execution_count": null,
      "outputs": []
    },
    {
      "cell_type": "code",
      "source": [
        "# YOUR CODE HERE"
      ],
      "metadata": {
        "id": "6cM7jt5eC0wZ"
      },
      "execution_count": null,
      "outputs": []
    },
    {
      "cell_type": "markdown",
      "source": [
        "# Task (optional) other features\n",
        "\n",
        "Explore [link](https://triangleinequality.wordpress.com/2013/09/08/basic-feature-engineering-with-the-titanic-data/)\n",
        "\n",
        "Try to create new features and see if they will help"
      ],
      "metadata": {
        "id": "k3rPU9Yj_G-h"
      }
    },
    {
      "cell_type": "code",
      "source": [
        "# YOUR CODE HERE"
      ],
      "metadata": {
        "id": "djAIxa-0_G1r"
      },
      "execution_count": null,
      "outputs": []
    }
  ]
}