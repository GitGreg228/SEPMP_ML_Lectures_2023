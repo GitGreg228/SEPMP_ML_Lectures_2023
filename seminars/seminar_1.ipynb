{
  "nbformat": 4,
  "nbformat_minor": 0,
  "metadata": {
    "colab": {
      "provenance": []
    },
    "kernelspec": {
      "name": "python3",
      "display_name": "Python 3"
    },
    "language_info": {
      "name": "python"
    }
  },
  "cells": [
    {
      "cell_type": "markdown",
      "source": [
        "<a href=\"https://colab.research.google.com/github/GitGreg228/sepmp_ml_2023/blob/main/seminars/seminar_1.ipynb\" target=\"_parent\"><img src=\"https://colab.research.google.com/assets/colab-badge.svg\" alt=\"Open In Colab\"/></a>"
      ],
      "metadata": {
        "id": "oVk1hJMhUKv9"
      }
    },
    {
      "cell_type": "code",
      "source": [
        "import os, cv2\n",
        "import numpy as np\n",
        "import matplotlib.pyplot as plt\n",
        "\n",
        "from tqdm import tqdm\n",
        "from google.colab.patches import cv2_imshow\n",
        "from scipy import integrate\n",
        "from scipy.optimize import minimize\n",
        "from sklearn.model_selection import train_test_split\n",
        "from sklearn.datasets import load_digits\n",
        "\n",
        "ROWS = 64\n",
        "COLS = 64\n",
        "CHANNELS = 3"
      ],
      "metadata": {
        "id": "qaKCASqUCAGk"
      },
      "execution_count": null,
      "outputs": []
    },
    {
      "cell_type": "code",
      "source": [
        "digits = load_digits()"
      ],
      "metadata": {
        "id": "O0RcwDeNCBO4"
      },
      "execution_count": null,
      "outputs": []
    },
    {
      "cell_type": "code",
      "source": [
        "X = digits.data\n",
        "y = digits.target"
      ],
      "metadata": {
        "id": "wROnnaBRCIbT"
      },
      "execution_count": null,
      "outputs": []
    },
    {
      "cell_type": "code",
      "source": [
        "fig, (ax1, ax2, ax3, ax4) = plt.subplots(1, 4, figsize=(24, 6))\n",
        "ax1.imshow(digits.images[0], cmap='gray')\n",
        "ax2.imshow(digits.images[1], cmap='gray')\n",
        "ax3.imshow(digits.images[2], cmap='gray')\n",
        "ax4.imshow(digits.images[3], cmap='gray')"
      ],
      "metadata": {
        "colab": {
          "base_uri": "https://localhost:8080/",
          "height": 357
        },
        "id": "EkgQoL59CLS3",
        "outputId": "9de23dac-2b58-4715-c8d5-345a2e5750b5"
      },
      "execution_count": null,
      "outputs": [
        {
          "output_type": "execute_result",
          "data": {
            "text/plain": [
              "<matplotlib.image.AxesImage at 0x7fac09c97eb0>"
            ]
          },
          "metadata": {},
          "execution_count": 7
        },
        {
          "output_type": "display_data",
          "data": {
            "text/plain": [
              "<Figure size 1728x432 with 4 Axes>"
            ],
            "image/png": "[encoded data removed]"
          },
          "metadata": {
            "needs_background": "light"
          }
        }
      ]
    },
    {
      "cell_type": "code",
      "source": [
        "def normalize(X_in, a=0, b=1):\n",
        "    # normalising from [X_min, X_max] to [a, b]\n",
        "    # task : implement a function that gets X_in as vector/matrix and returns X_out in a desired range\n",
        "    # hint : all functions you need are min - np.min(X_in), max - np.max(X_in)\n",
        "    return (b - a) * (X_in - np.min(X_in)) / (np.max(X_in) - np.min(X_in)) + a"
      ],
      "metadata": {
        "id": "f8zx0bsVCT65"
      },
      "execution_count": null,
      "outputs": []
    },
    {
      "cell_type": "code",
      "source": [
        "mask = y < 2\n",
        "X_train, X_test, y_train, y_test = train_test_split(normalize(X[mask]), y[mask], test_size=0.2, random_state=42)"
      ],
      "metadata": {
        "id": "FyLFxHPvCMpb"
      },
      "execution_count": null,
      "outputs": []
    },
    {
      "cell_type": "markdown",
      "source": [
        "# Cats and dogs dataset"
      ],
      "metadata": {
        "id": "J7eGgac8CBiV"
      }
    },
    {
      "cell_type": "code",
      "execution_count": null,
      "metadata": {
        "id": "eOszsRQVz2h3"
      },
      "outputs": [],
      "source": [
        "!wget --load-cookies /tmp/cookies.txt \"https://docs.google.com/uc?export=download&confirm=$(wget --quiet --save-cookies /tmp/cookies.txt --keep-session-cookies --no-check-certificate 'https://docs.google.com/uc?export=download&id=1jM6FPtWf3rmsfyFTOrPNOgHMkzhAIT8b' -O- | sed -rn 's/.*confirm=([0-9A-Za-z_]+).*/\\1\\n/p')&id=1jM6FPtWf3rmsfyFTOrPNOgHMkzhAIT8b\" -O cats_and_dogs.zip && rm -rf /tmp/cookies.txt"
      ]
    },
    {
      "cell_type": "code",
      "source": [
        "!unzip -q cats_and_dogs.zip"
      ],
      "metadata": {
        "id": "XTKAg8XHz5Ix"
      },
      "execution_count": null,
      "outputs": []
    },
    {
      "cell_type": "code",
      "source": [
        "cats_train_dir = os.path.join('training_set', 'training_set', 'cats')\n",
        "dogs_train_dir = os.path.join('training_set', 'training_set', 'dogs')\n",
        "\n",
        "cats_train_fnames = list([os.path.join(cats_train_dir, fname) for fname in os.listdir(cats_train_dir)])\n",
        "dogs_train_fnames = list([os.path.join(dogs_train_dir, fname) for fname in os.listdir(dogs_train_dir)])\n",
        "\n",
        "train_fnames = np.random.permutation(cats_train_fnames + dogs_train_fnames)"
      ],
      "metadata": {
        "id": "oMFqZMCnz8n-"
      },
      "execution_count": null,
      "outputs": []
    },
    {
      "cell_type": "code",
      "source": [
        "cats_test_dir = os.path.join('test_set', 'test_set', 'cats')\n",
        "dogs_test_dir = os.path.join('test_set', 'test_set', 'dogs')\n",
        "\n",
        "cats_test_fnames = list([os.path.join(cats_test_dir, fname) for fname in os.listdir(cats_test_dir)])\n",
        "dogs_test_fnames = list([os.path.join(dogs_test_dir, fname) for fname in os.listdir(dogs_test_dir)])\n",
        "\n",
        "test_fnames = np.random.permutation(cats_test_fnames + dogs_test_fnames)"
      ],
      "metadata": {
        "id": "A82DVnAt0Dw2"
      },
      "execution_count": null,
      "outputs": []
    },
    {
      "cell_type": "code",
      "source": [
        "def read_image(file_path):\n",
        "    img = cv2.imread(file_path, cv2.IMREAD_COLOR)\n",
        "    try:\n",
        "        result = cv2.resize(img, (ROWS, COLS), interpolation=cv2.INTER_CUBIC)\n",
        "    except:\n",
        "        result = None\n",
        "    return result"
      ],
      "metadata": {
        "id": "7ECogQkY0ICf"
      },
      "execution_count": null,
      "outputs": []
    },
    {
      "cell_type": "code",
      "source": [
        "def prep_data(images):\n",
        "    \"\"\"\n",
        "    Returns:\n",
        "        X(n_x, m)\n",
        "        y(1, m) -- 1: dog, 0: cat\n",
        "    \"\"\"\n",
        "    m = len(images)\n",
        "    n_x = ROWS * COLS * CHANNELS\n",
        "    \n",
        "    X = list()\n",
        "    y = list()\n",
        "    # print (\"X shape is {}\".format(X.shape))\n",
        "    \n",
        "    for i in tqdm(range(len(images))):\n",
        "        image_file = images[i]\n",
        "        image = read_image(image_file)\n",
        "        if image is not None:\n",
        "            X.append(np.squeeze(image.reshape((n_x, 1))))\n",
        "            if 'dog' in image_file.lower():\n",
        "                y.append(1)\n",
        "            elif 'cat' in image_file.lower():\n",
        "                y.append(-1)\n",
        "            else:# if neither dog nor cat exist, return the image index (this is the case for test data)\n",
        "                y.append(0)\n",
        "        # if i%1000 == 0: print('Processed {} of {}'.format(i, m))\n",
        "    \n",
        "    X = np.array(X)\n",
        "    y = np.array(y)\n",
        "    print (\"X shape is {}\".format(X.shape))\n",
        "\n",
        "    return X, y"
      ],
      "metadata": {
        "id": "kSDyNlVh0Jii"
      },
      "execution_count": null,
      "outputs": []
    },
    {
      "cell_type": "code",
      "source": [
        "cv2_imshow(read_image(test_fnames[40]))"
      ],
      "metadata": {
        "id": "7FFGteKs0Kuj"
      },
      "execution_count": null,
      "outputs": []
    },
    {
      "cell_type": "code",
      "source": [
        "X_train, y_train = prep_data(train_fnames)"
      ],
      "metadata": {
        "id": "sy0cQngR05Of"
      },
      "execution_count": null,
      "outputs": []
    },
    {
      "cell_type": "code",
      "source": [
        "X_test, y_test = prep_data(test_fnames)"
      ],
      "metadata": {
        "id": "q0qZs4ZU05ah"
      },
      "execution_count": null,
      "outputs": []
    },
    {
      "cell_type": "code",
      "source": [
        "def margin(y_in, X_in, w):\n",
        "    # task : implement margin function described above\n",
        "    # hint 1 : np.dot - for scalar product and matrix multiplication\n",
        "    # hint 2 : * - Adamar product\n",
        "    return y_in * np.dot(X_in, w)"
      ],
      "metadata": {
        "id": "7VPtEAtj1v30"
      },
      "execution_count": null,
      "outputs": []
    },
    {
      "cell_type": "code",
      "source": [
        "def sigmoid(M):\n",
        "    # task : implement sigmoid function described above\n",
        "    return 1 / (1 + np.exp(-M))"
      ],
      "metadata": {
        "id": "TL70w8lj0zHE"
      },
      "execution_count": null,
      "outputs": []
    },
    {
      "cell_type": "code",
      "source": [
        "def loss(M):\n",
        "    # task : implement logistic regression loss function\n",
        "    # hint 1 : log(a) = np.log(a)\n",
        "    # hint 2 : sum(arr) = np.sum(arr)\n",
        "    return np.mean(np.log(1 + np.exp(-M)))"
      ],
      "metadata": {
        "id": "5LdGUd6T0pnx"
      },
      "execution_count": null,
      "outputs": []
    },
    {
      "cell_type": "code",
      "source": [
        "def p(X_in, w):\n",
        "    # task : implement probability function described above\n",
        "    # hint 1 : np.dot - for scalar product and matrix multiplication\n",
        "    # hint 2 : e^a = np.exp(a)\n",
        "    return 1 / (1 + np.exp( - np.dot(X_in, w)))"
      ],
      "metadata": {
        "id": "a7yT1B8c1ahU"
      },
      "execution_count": null,
      "outputs": []
    },
    {
      "cell_type": "code",
      "source": [
        "def predict(X_in, w, a=0.5):\n",
        "    # task : implement the prediction function\n",
        "    # hint : p+ is implemented above\n",
        "    c = p(X_in, w)\n",
        "    c[c >= a] = 1\n",
        "    c[c < a] = -1\n",
        "    return c"
      ],
      "metadata": {
        "id": "A8PIQdV-1Xgm"
      },
      "execution_count": null,
      "outputs": []
    },
    {
      "cell_type": "code",
      "source": [
        "def Loss_grad(w):\n",
        "    # task : calculate the gradient of loss function defined above\n",
        "    M = margin(y_train, X_train, w)\n",
        "    # grad = np.zeros(w.shape)\n",
        "    y_ = np.tile(y_train, (w.shape[0], 1)).T\n",
        "    M_ = np.tile(M, (w.shape[0], 1)).T\n",
        "    return np.mean((1-sigmoid(M_)) * y_ * X_train, axis=0)"
      ],
      "metadata": {
        "id": "H_0dLmWH0rG-"
      },
      "execution_count": null,
      "outputs": []
    },
    {
      "cell_type": "code",
      "source": [
        "def TP(y_pred, y_true):\n",
        "    return np.sum(y_pred[y_pred == 1] == y_true[y_pred == 1])\n",
        "\n",
        "def TN(y_pred, y_true):\n",
        "    return np.sum(y_pred[y_pred == -1] == y_true[y_pred == -1])\n",
        "\n",
        "def FP(y_pred, y_true):\n",
        "    return np.sum(y_pred[y_pred == 1] != y_true[y_pred == 1])\n",
        "\n",
        "def FN(y_pred, y_true):\n",
        "    return np.sum(y_pred[y_pred == -1] != y_true[y_pred == -1])\n",
        "\n",
        "def TPR(y_pred, y_true):\n",
        "    if TP(y_pred, y_true) + FN(y_pred, y_true) > 0:\n",
        "        return TP(y_pred, y_true) / (TP(y_pred, y_true) + FN(y_pred, y_true))\n",
        "    else:\n",
        "        return 0\n",
        "\n",
        "def FPR(y_pred, y_true):\n",
        "    if FP(y_pred, y_true) + TN(y_pred, y_true) > 0:\n",
        "        return FP(y_pred, y_true) / (FP(y_pred, y_true) + TN(y_pred, y_true))\n",
        "    else:\n",
        "        return 0"
      ],
      "metadata": {
        "id": "6Z1Pdskj1Nvg"
      },
      "execution_count": null,
      "outputs": []
    },
    {
      "cell_type": "code",
      "source": [
        "def roc_curve(X_in, w_in, y_in, n_points=100):\n",
        "    x_fpr = list()\n",
        "    y_tpr = list()\n",
        "    A = np.linspace(0, 1, n_points)\n",
        "    for a in A[::-1]:\n",
        "        y_pred = predict(X_in, w_in, a=a)\n",
        "        x_fpr.append(FPR(y_pred, y_in))\n",
        "        y_tpr.append(TPR(y_pred, y_in))\n",
        "    return np.array(x_fpr), np.array(y_tpr)"
      ],
      "metadata": {
        "id": "THyeM0dX1Lb3"
      },
      "execution_count": null,
      "outputs": []
    },
    {
      "cell_type": "code",
      "source": [],
      "metadata": {
        "id": "5Slj2oJWD2EA"
      },
      "execution_count": null,
      "outputs": []
    },
    {
      "cell_type": "code",
      "source": [],
      "metadata": {
        "id": "6MyWfKFLJK4P",
        "colab": {
          "base_uri": "https://localhost:8080/",
          "height": 169
        },
        "outputId": "7e04a582-2c50-4691-9a33-8b2561615682"
      },
      "execution_count": null,
      "outputs": [
        {
          "output_type": "error",
          "ename": "NameError",
          "evalue": "ignored",
          "traceback": [
            "\u001b[0;31m---------------------------------------------------------------------------\u001b[0m",
            "\u001b[0;31mNameError\u001b[0m                                 Traceback (most recent call last)",
            "\u001b[0;32m<ipython-input-1-5186be5b36e8>\u001b[0m in \u001b[0;36m<module>\u001b[0;34m\u001b[0m\n\u001b[0;32m----> 1\u001b[0;31m \u001b[0mdigits\u001b[0m \u001b[0;34m=\u001b[0m \u001b[0mload_digits\u001b[0m\u001b[0;34m(\u001b[0m\u001b[0;34m)\u001b[0m\u001b[0;34m\u001b[0m\u001b[0;34m\u001b[0m\u001b[0m\n\u001b[0m",
            "\u001b[0;31mNameError\u001b[0m: name 'load_digits' is not defined"
          ]
        }
      ]
    },
    {
      "cell_type": "code",
      "source": [],
      "metadata": {
        "id": "XIThZSzrJSgs"
      },
      "execution_count": null,
      "outputs": []
    },
    {
      "cell_type": "code",
      "source": [],
      "metadata": {
        "id": "yR5AUdr8JjHC"
      },
      "execution_count": null,
      "outputs": []
    },
    {
      "cell_type": "code",
      "source": [],
      "metadata": {
        "id": "E0_xLxJ1J_G3"
      },
      "execution_count": null,
      "outputs": []
    }
  ]
}