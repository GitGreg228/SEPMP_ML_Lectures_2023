{
  "nbformat": 4,
  "nbformat_minor": 0,
  "metadata": {
    "colab": {
      "provenance": []
    },
    "kernelspec": {
      "name": "python3",
      "display_name": "Python 3"
    },
    "language_info": {
      "name": "python"
    }
  },
  "cells": [
    {
      "cell_type": "markdown",
      "source": [
        "<a href=\"https://colab.research.google.com/github/GitGreg228/sepmp_ml_2023/blob/main/seminars/seminar_1.ipynb\" target=\"_parent\"><img src=\"https://colab.research.google.com/assets/colab-badge.svg\" alt=\"Open In Colab\"/></a>"
      ],
      "metadata": {
        "id": "oVk1hJMhUKv9"
      }
    },
    {
      "cell_type": "code",
      "source": [
        "import os, cv2\n",
        "import numpy as np\n",
        "import matplotlib.pyplot as plt\n",
        "import torch\n",
        "\n",
        "from tqdm import tqdm\n",
        "from google.colab.patches import cv2_imshow\n",
        "from scipy import integrate\n",
        "from scipy.optimize import minimize\n",
        "from sklearn.model_selection import train_test_split\n",
        "from sklearn.datasets import load_digits\n",
        "from copy import deepcopy\n",
        "from torch.utils.data import DataLoader\n",
        "from torch.utils.data import TensorDataset\n",
        "\n",
        "\n",
        "ROWS = 64\n",
        "COLS = 64\n",
        "CHANNELS = 3"
      ],
      "metadata": {
        "id": "qaKCASqUCAGk"
      },
      "execution_count": 1,
      "outputs": []
    },
    {
      "cell_type": "code",
      "source": [
        "digits = load_digits()"
      ],
      "metadata": {
        "id": "O0RcwDeNCBO4"
      },
      "execution_count": 2,
      "outputs": []
    },
    {
      "cell_type": "code",
      "source": [
        "X = digits.data\n",
        "y = digits.target"
      ],
      "metadata": {
        "id": "wROnnaBRCIbT"
      },
      "execution_count": 20,
      "outputs": []
    },
    {
      "cell_type": "code",
      "source": [
        "X.shape"
      ],
      "metadata": {
        "colab": {
          "base_uri": "https://localhost:8080/"
        },
        "id": "A591maiIhtiR",
        "outputId": "7e199e3f-9b51-4982-f6be-c6c7032850a1"
      },
      "execution_count": 21,
      "outputs": [
        {
          "output_type": "execute_result",
          "data": {
            "text/plain": [
              "(1797, 64)"
            ]
          },
          "metadata": {},
          "execution_count": 21
        }
      ]
    },
    {
      "cell_type": "code",
      "source": [
        "X[0].reshape(8, 8)"
      ],
      "metadata": {
        "colab": {
          "base_uri": "https://localhost:8080/"
        },
        "id": "7VEC3PNeWRrz",
        "outputId": "e706844a-16ca-49bb-a417-7230407553aa"
      },
      "execution_count": 22,
      "outputs": [
        {
          "output_type": "execute_result",
          "data": {
            "text/plain": [
              "array([[ 0.,  0.,  5., 13.,  9.,  1.,  0.,  0.],\n",
              "       [ 0.,  0., 13., 15., 10., 15.,  5.,  0.],\n",
              "       [ 0.,  3., 15.,  2.,  0., 11.,  8.,  0.],\n",
              "       [ 0.,  4., 12.,  0.,  0.,  8.,  8.,  0.],\n",
              "       [ 0.,  5.,  8.,  0.,  0.,  9.,  8.,  0.],\n",
              "       [ 0.,  4., 11.,  0.,  1., 12.,  7.,  0.],\n",
              "       [ 0.,  2., 14.,  5., 10., 12.,  0.,  0.],\n",
              "       [ 0.,  0.,  6., 13., 10.,  0.,  0.,  0.]])"
            ]
          },
          "metadata": {},
          "execution_count": 22
        }
      ]
    },
    {
      "cell_type": "code",
      "source": [
        "fig, (ax1, ax2, ax3, ax4) = plt.subplots(1, 4, figsize=(24, 6))\n",
        "ax1.imshow(digits.images[0], cmap='gray')\n",
        "ax2.imshow(digits.images[1], cmap='gray')\n",
        "ax3.imshow(digits.images[2], cmap='gray')\n",
        "ax4.imshow(digits.images[3], cmap='gray')"
      ],
      "metadata": {
        "colab": {
          "base_uri": "https://localhost:8080/",
          "height": 414
        },
        "id": "EkgQoL59CLS3",
        "outputId": "b0608207-6b9f-43d1-bd93-564b5c8358e8"
      },
      "execution_count": 23,
      "outputs": [
        {
          "output_type": "execute_result",
          "data": {
            "text/plain": [
              "<matplotlib.image.AxesImage at 0x7fe2be30a4f0>"
            ]
          },
          "metadata": {},
          "execution_count": 23
        },
        {
          "output_type": "display_data",
          "data": {
            "text/plain": [
              "<Figure size 2400x600 with 4 Axes>"
            ],
            "image/png": "[encoded data removed]"
          },
          "metadata": {}
        }
      ]
    },
    {
      "cell_type": "code",
      "source": [
        "def normalize(X_in, a=0, b=1):\n",
        "    # normalising from [X_min, X_max] to [a, b]\n",
        "    # task : implement a function that gets X_in as vector/matrix and returns X_out in a desired range\n",
        "    # hint : all functions you need are min - np.min(X_in), max - np.max(X_in)\n",
        "    return (b - a) * (X_in - np.min(X_in)) / (np.max(X_in) - np.min(X_in)) + a"
      ],
      "metadata": {
        "id": "f8zx0bsVCT65"
      },
      "execution_count": 24,
      "outputs": []
    },
    {
      "cell_type": "code",
      "source": [
        "X = digits.data\n",
        "y = digits.target\n",
        "\n",
        "mask1 = y == 1\n",
        "mask2 = y == 7\n",
        "mask = mask1 + mask2\n",
        "\n",
        "X = X[mask]\n",
        "y = y[mask]\n",
        "y[y == 7] = 0\n",
        "\n",
        "X_train, X_val_test, y_train, y_val_test = train_test_split(X, y, test_size=0.2, random_state=42)\n",
        "X_val, X_test, y_val, y_test = train_test_split(X_val_test, y_val_test, test_size=0.5, random_state=42)\n",
        "\n",
        "# X_train, X_test, y_train, y_test = train_test_split(normalize(X[mask]), y[mask], test_size=0.2, random_state=42)\n",
        "print(X_train.shape, X_val.shape, X_test.shape)"
      ],
      "metadata": {
        "id": "FyLFxHPvCMpb",
        "colab": {
          "base_uri": "https://localhost:8080/"
        },
        "outputId": "7569922e-f473-4865-c149-cce04de3b343"
      },
      "execution_count": 27,
      "outputs": [
        {
          "output_type": "stream",
          "name": "stdout",
          "text": [
            "(288, 64) (36, 64) (37, 64)\n"
          ]
        }
      ]
    },
    {
      "cell_type": "code",
      "source": [
        "X_train, y_train = torch.Tensor(X_train), torch.Tensor(y_train)\n",
        "X_val, y_val = torch.Tensor(X_val), torch.Tensor(y_val)\n",
        "X_test, y_test = torch.Tensor(X_test), torch.Tensor(y_test)"
      ],
      "metadata": {
        "id": "rE3vIteciuiS"
      },
      "execution_count": 28,
      "outputs": []
    },
    {
      "cell_type": "code",
      "source": [
        "bs = 30  # batch_size\n",
        "\n",
        "train_data = TensorDataset(X_train, y_train)\n",
        "val_data = TensorDataset(X_val, y_val)\n",
        "test_data = TensorDataset(X_test, y_test)\n",
        "\n",
        "train_loader = DataLoader(train_data, batch_size=bs)\n",
        "val_loader = DataLoader(val_data, batch_size=bs)\n",
        "test_loader = DataLoader(test_data, batch_size=bs)"
      ],
      "metadata": {
        "id": "dgaDGhFpX6t-"
      },
      "execution_count": 30,
      "outputs": []
    },
    {
      "cell_type": "code",
      "source": [
        "class Logistic_Regression(torch.nn.Module):\n",
        "    def __init__(self, in_size=64, out_size=1):\n",
        "        super().__init__()\n",
        "        self.layers = torch.nn.Sequential(\n",
        "                torch.nn.Linear(in_size, out_size),\n",
        "                torch.nn.Sigmoid(),\n",
        "            )\n",
        "    \n",
        "    def forward(self, x):\n",
        "        return self.layers(x)"
      ],
      "metadata": {
        "id": "9sM8w2qMjQz9"
      },
      "execution_count": 31,
      "outputs": []
    },
    {
      "cell_type": "code",
      "source": [
        "model = Logistic_Regression()\n",
        "list(model.parameters())"
      ],
      "metadata": {
        "colab": {
          "base_uri": "https://localhost:8080/"
        },
        "id": "-8d1NLoojSww",
        "outputId": "ed64226e-fef7-4a5b-c74e-23e4e5906001"
      },
      "execution_count": 32,
      "outputs": [
        {
          "output_type": "execute_result",
          "data": {
            "text/plain": [
              "[Parameter containing:\n",
              " tensor([[-0.0418,  0.0856,  0.0330, -0.0736, -0.0320,  0.1184, -0.1007, -0.0180,\n",
              "           0.0884,  0.0758, -0.0886, -0.0654, -0.0170, -0.0254, -0.0279, -0.0039,\n",
              "           0.0107, -0.0642, -0.0838,  0.0600,  0.0524,  0.0043,  0.1194, -0.0628,\n",
              "           0.0935,  0.0823, -0.0375,  0.0400, -0.0649, -0.0017, -0.0652,  0.0566,\n",
              "          -0.0975, -0.0582,  0.0373, -0.0136,  0.0841, -0.0366, -0.1196,  0.0640,\n",
              "           0.0372, -0.0629,  0.0785, -0.0867,  0.0783, -0.0918,  0.0345, -0.1003,\n",
              "           0.0549, -0.1007, -0.0835, -0.0123,  0.0248, -0.0992,  0.0049, -0.0140,\n",
              "          -0.0056, -0.0599, -0.0897, -0.0746,  0.0034, -0.0474,  0.0653,  0.0175]],\n",
              "        requires_grad=True),\n",
              " Parameter containing:\n",
              " tensor([-0.0538], requires_grad=True)]"
            ]
          },
          "metadata": {},
          "execution_count": 32
        }
      ]
    },
    {
      "cell_type": "code",
      "source": [
        "def train(model, criterion, optimizer, n_epochs, n_stop=10):\n",
        "    train_loss = list()\n",
        "    val_loss = list()\n",
        "    min_val_loss = np.inf\n",
        "    f = 0\n",
        "    for epoch in tqdm(range(n_epochs)):\n",
        "        model.train()\n",
        "        train_batch_loss = list()\n",
        "        for batch in train_loader:\n",
        "            optimizer.zero_grad()\n",
        "            _X, _y = batch\n",
        "            _y_pred = model(_X)\n",
        "            loss = criterion(_y_pred, _y.unsqueeze(1))\n",
        "            loss.backward()\n",
        "            optimizer.step()\n",
        "            train_batch_loss.append(loss.item())\n",
        "\n",
        "        model.eval()\n",
        "        val_batch_loss = list()\n",
        "        for batch in val_loader:\n",
        "            _X, _y = batch\n",
        "            _y_pred = model(_X)\n",
        "            loss = criterion(_y_pred, _y.unsqueeze(1))\n",
        "            val_batch_loss.append(loss.item())\n",
        "\n",
        "        # print(f'Epoch: {epoch}, \\tTrain loss: {np.mean(train_batch_loss)}, \\tValidation loss: {np.mean(val_batch_loss)}')\n",
        "        train_loss.append(np.mean(train_batch_loss))\n",
        "        val_loss.append(np.mean(val_batch_loss))\n",
        "\n",
        "        # (optional) early stopping:\n",
        "\n",
        "        if val_loss[-1] > min_val_loss:\n",
        "            f = f + 1\n",
        "        else:\n",
        "            # print(f'epoch: {epoch}, val loss did decrease, saving model')\n",
        "            f = 0\n",
        "            best_model = deepcopy(model)\n",
        "            min_val_loss = val_loss[-1]\n",
        "        if f >= n_stop:\n",
        "            print(f'epoch: {epoch}, val loss did not decrease for {f} epoch(s)')\n",
        "            break\n",
        "\n",
        "    return best_model, train_loss, val_loss"
      ],
      "metadata": {
        "id": "D0H4M0gwjaE0"
      },
      "execution_count": 33,
      "outputs": []
    },
    {
      "cell_type": "code",
      "source": [
        "model = Logistic_Regression()\n",
        "\n",
        "criterion = torch.nn.BCELoss()\n",
        "\n",
        "alpha = 0.001\n",
        "optimizer = torch.optim.Adam(model.parameters(), lr=alpha, weight_decay=0.03)\n",
        "\n",
        "model, train_loss, val_loss = train(model, criterion, optimizer, n_epochs=10000, n_stop=100)"
      ],
      "metadata": {
        "colab": {
          "base_uri": "https://localhost:8080/"
        },
        "id": "wUf4VvCajde4",
        "outputId": "4754dcf3-4c56-41b2-fe87-77d35e107ed8"
      },
      "execution_count": 34,
      "outputs": [
        {
          "output_type": "stream",
          "name": "stderr",
          "text": [
            "  7%|▋         | 728/10000 [00:10<02:09, 71.74it/s]"
          ]
        },
        {
          "output_type": "stream",
          "name": "stdout",
          "text": [
            "epoch: 728, val loss did not decrease for 100 epoch(s)\n"
          ]
        },
        {
          "output_type": "stream",
          "name": "stderr",
          "text": [
            "\n"
          ]
        }
      ]
    },
    {
      "cell_type": "code",
      "source": [
        "plt.plot(train_loss, label='train loss')\n",
        "plt.plot(val_loss, label='validation loss')\n",
        "plt.legend()\n",
        "plt.ylabel('BCE Loss')\n",
        "plt.xlabel('# of epoch')\n",
        "plt.show()"
      ],
      "metadata": {
        "colab": {
          "base_uri": "https://localhost:8080/",
          "height": 449
        },
        "id": "P51Z81KajoYz",
        "outputId": "37d3b94e-123c-4240-a0ba-76404a2fa56d"
      },
      "execution_count": 35,
      "outputs": [
        {
          "output_type": "display_data",
          "data": {
            "text/plain": [
              "<Figure size 640x480 with 1 Axes>"
            ],
            "image/png": "[encoded data removed]"
          },
          "metadata": {}
        }
      ]
    },
    {
      "cell_type": "code",
      "source": [
        "with torch.no_grad():\n",
        "    for batch in test_loader:\n",
        "        _X, _y = batch\n",
        "        _y_pred = model(_X)\n",
        "        loss = criterion(_y_pred, _y.unsqueeze(1))\n",
        "        print(f'y: {_y}, \\ny_pred = {_y_pred.squeeze()}, \\nloss = {loss.item()}')"
      ],
      "metadata": {
        "colab": {
          "base_uri": "https://localhost:8080/"
        },
        "id": "2tSgojFhjplB",
        "outputId": "44e2eeff-5ca4-4b47-98b3-fe5ecd2ba714"
      },
      "execution_count": 40,
      "outputs": [
        {
          "output_type": "stream",
          "name": "stdout",
          "text": [
            "y: tensor([1., 0., 0., 0., 1., 1., 1., 0., 1., 0., 1., 0., 0., 0., 0., 1., 0., 0.,\n",
            "        0., 1., 0., 0., 1., 1., 1., 1., 1., 1., 0., 0.]), \n",
            "y_pred = tensor([9.9983e-01, 2.4891e-05, 4.6305e-04, 3.2343e-05, 9.9943e-01, 9.9974e-01,\n",
            "        9.9280e-01, 4.1060e-04, 9.9998e-01, 9.2652e-05, 9.8963e-01, 1.3487e-04,\n",
            "        2.9088e-04, 4.3803e-05, 1.7212e-04, 9.8979e-01, 1.3840e-02, 2.9051e-04,\n",
            "        3.3294e-04, 9.9828e-01, 4.4752e-04, 2.4299e-03, 9.9996e-01, 9.9998e-01,\n",
            "        9.9706e-01, 9.9999e-01, 9.9999e-01, 9.9431e-01, 1.9430e-06, 2.0752e-06]), \n",
            "loss = 0.001949578756466508\n",
            "y: tensor([1., 0., 1., 1., 0., 1., 0.]), \n",
            "y_pred = tensor([9.9993e-01, 2.6077e-02, 9.9970e-01, 9.9997e-01, 6.7664e-05, 9.9999e-01,\n",
            "        3.5221e-04]), \n",
            "loss = 0.0038936254568398\n"
          ]
        }
      ]
    },
    {
      "cell_type": "code",
      "source": [
        "model(torch.Tensor(X[1]))"
      ],
      "metadata": {
        "colab": {
          "base_uri": "https://localhost:8080/"
        },
        "id": "UKCJ2SGxkCwt",
        "outputId": "9db1bebf-63fe-47fa-c9dc-667e6e399c17"
      },
      "execution_count": 41,
      "outputs": [
        {
          "output_type": "execute_result",
          "data": {
            "text/plain": [
              "tensor([0.0001], grad_fn=<SigmoidBackward0>)"
            ]
          },
          "metadata": {},
          "execution_count": 41
        }
      ]
    },
    {
      "cell_type": "code",
      "source": [
        "plt.imshow(X[1].reshape(8, 8))"
      ],
      "metadata": {
        "colab": {
          "base_uri": "https://localhost:8080/",
          "height": 448
        },
        "id": "Aoo8GevTjt7F",
        "outputId": "4e200cd0-7822-4613-820f-01000d266931"
      },
      "execution_count": 42,
      "outputs": [
        {
          "output_type": "execute_result",
          "data": {
            "text/plain": [
              "<matplotlib.image.AxesImage at 0x7fe2be125ac0>"
            ]
          },
          "metadata": {},
          "execution_count": 42
        },
        {
          "output_type": "display_data",
          "data": {
            "text/plain": [
              "<Figure size 640x480 with 1 Axes>"
            ],
            "image/png": "[encoded data removed]"
          },
          "metadata": {}
        }
      ]
    },
    {
      "cell_type": "markdown",
      "source": [
        "# Cats and dogs dataset"
      ],
      "metadata": {
        "id": "J7eGgac8CBiV"
      }
    },
    {
      "cell_type": "code",
      "execution_count": null,
      "metadata": {
        "id": "eOszsRQVz2h3"
      },
      "outputs": [],
      "source": [
        "!wget --load-cookies /tmp/cookies.txt \"https://docs.google.com/uc?export=download&confirm=$(wget --quiet --save-cookies /tmp/cookies.txt --keep-session-cookies --no-check-certificate 'https://docs.google.com/uc?export=download&id=1jM6FPtWf3rmsfyFTOrPNOgHMkzhAIT8b' -O- | sed -rn 's/.*confirm=([0-9A-Za-z_]+).*/\\1\\n/p')&id=1jM6FPtWf3rmsfyFTOrPNOgHMkzhAIT8b\" -O cats_and_dogs.zip && rm -rf /tmp/cookies.txt"
      ]
    },
    {
      "cell_type": "code",
      "source": [
        "!unzip -q cats_and_dogs.zip"
      ],
      "metadata": {
        "id": "XTKAg8XHz5Ix"
      },
      "execution_count": null,
      "outputs": []
    },
    {
      "cell_type": "code",
      "source": [
        "cats_train_dir = os.path.join('training_set', 'training_set', 'cats')\n",
        "dogs_train_dir = os.path.join('training_set', 'training_set', 'dogs')\n",
        "\n",
        "cats_train_fnames = list([os.path.join(cats_train_dir, fname) for fname in os.listdir(cats_train_dir)])\n",
        "dogs_train_fnames = list([os.path.join(dogs_train_dir, fname) for fname in os.listdir(dogs_train_dir)])\n",
        "\n",
        "train_fnames = np.random.permutation(cats_train_fnames + dogs_train_fnames)"
      ],
      "metadata": {
        "id": "oMFqZMCnz8n-"
      },
      "execution_count": null,
      "outputs": []
    },
    {
      "cell_type": "code",
      "source": [
        "cats_test_dir = os.path.join('test_set', 'test_set', 'cats')\n",
        "dogs_test_dir = os.path.join('test_set', 'test_set', 'dogs')\n",
        "\n",
        "cats_test_fnames = list([os.path.join(cats_test_dir, fname) for fname in os.listdir(cats_test_dir)])\n",
        "dogs_test_fnames = list([os.path.join(dogs_test_dir, fname) for fname in os.listdir(dogs_test_dir)])\n",
        "\n",
        "test_fnames = np.random.permutation(cats_test_fnames + dogs_test_fnames)"
      ],
      "metadata": {
        "id": "A82DVnAt0Dw2"
      },
      "execution_count": null,
      "outputs": []
    },
    {
      "cell_type": "code",
      "source": [
        "def read_image(file_path):\n",
        "    img = cv2.imread(file_path, cv2.IMREAD_COLOR)\n",
        "    try:\n",
        "        result = cv2.resize(img, (ROWS, COLS), interpolation=cv2.INTER_CUBIC)\n",
        "    except:\n",
        "        result = None\n",
        "    return result"
      ],
      "metadata": {
        "id": "7ECogQkY0ICf"
      },
      "execution_count": null,
      "outputs": []
    },
    {
      "cell_type": "code",
      "source": [
        "def prep_data(images):\n",
        "    \"\"\"\n",
        "    Returns:\n",
        "        X(n_x, m)\n",
        "        y(1, m) -- 1: dog, 0: cat\n",
        "    \"\"\"\n",
        "    m = len(images)\n",
        "    n_x = ROWS * COLS * CHANNELS\n",
        "    \n",
        "    X = list()\n",
        "    y = list()\n",
        "    # print (\"X shape is {}\".format(X.shape))\n",
        "    \n",
        "    for i in tqdm(range(len(images))):\n",
        "        image_file = images[i]\n",
        "        image = read_image(image_file)\n",
        "        if image is not None:\n",
        "            X.append(np.squeeze(image.reshape((n_x, 1))))\n",
        "            if 'dog' in image_file.lower():\n",
        "                y.append(1)\n",
        "            elif 'cat' in image_file.lower():\n",
        "                y.append(-1)\n",
        "            else:# if neither dog nor cat exist, return the image index (this is the case for test data)\n",
        "                y.append(0)\n",
        "        # if i%1000 == 0: print('Processed {} of {}'.format(i, m))\n",
        "    \n",
        "    X = np.array(X)\n",
        "    y = np.array(y)\n",
        "    print (\"X shape is {}\".format(X.shape))\n",
        "\n",
        "    return X, y"
      ],
      "metadata": {
        "id": "kSDyNlVh0Jii"
      },
      "execution_count": null,
      "outputs": []
    },
    {
      "cell_type": "code",
      "source": [
        "cv2_imshow(read_image(test_fnames[40]))"
      ],
      "metadata": {
        "id": "7FFGteKs0Kuj"
      },
      "execution_count": null,
      "outputs": []
    },
    {
      "cell_type": "code",
      "source": [
        "X_train, y_train = prep_data(train_fnames)"
      ],
      "metadata": {
        "id": "sy0cQngR05Of"
      },
      "execution_count": null,
      "outputs": []
    },
    {
      "cell_type": "code",
      "source": [
        "X_test, y_test = prep_data(test_fnames)"
      ],
      "metadata": {
        "id": "q0qZs4ZU05ah"
      },
      "execution_count": null,
      "outputs": []
    },
    {
      "cell_type": "code",
      "source": [
        "def margin(y_in, X_in, w):\n",
        "    # task : implement margin function described above\n",
        "    # hint 1 : np.dot - for scalar product and matrix multiplication\n",
        "    # hint 2 : * - Adamar product\n",
        "    return y_in * np.dot(X_in, w)"
      ],
      "metadata": {
        "id": "7VPtEAtj1v30"
      },
      "execution_count": null,
      "outputs": []
    },
    {
      "cell_type": "code",
      "source": [
        "def sigmoid(M):\n",
        "    # task : implement sigmoid function described above\n",
        "    return 1 / (1 + np.exp(-M))"
      ],
      "metadata": {
        "id": "TL70w8lj0zHE"
      },
      "execution_count": null,
      "outputs": []
    },
    {
      "cell_type": "code",
      "source": [
        "def loss(M):\n",
        "    # task : implement logistic regression loss function\n",
        "    # hint 1 : log(a) = np.log(a)\n",
        "    # hint 2 : sum(arr) = np.sum(arr)\n",
        "    return np.mean(np.log(1 + np.exp(-M)))"
      ],
      "metadata": {
        "id": "5LdGUd6T0pnx"
      },
      "execution_count": null,
      "outputs": []
    },
    {
      "cell_type": "code",
      "source": [
        "def p(X_in, w):\n",
        "    # task : implement probability function described above\n",
        "    # hint 1 : np.dot - for scalar product and matrix multiplication\n",
        "    # hint 2 : e^a = np.exp(a)\n",
        "    return 1 / (1 + np.exp( - np.dot(X_in, w)))"
      ],
      "metadata": {
        "id": "a7yT1B8c1ahU"
      },
      "execution_count": null,
      "outputs": []
    },
    {
      "cell_type": "code",
      "source": [
        "def predict(X_in, w, a=0.5):\n",
        "    # task : implement the prediction function\n",
        "    # hint : p+ is implemented above\n",
        "    c = p(X_in, w)\n",
        "    c[c >= a] = 1\n",
        "    c[c < a] = -1\n",
        "    return c"
      ],
      "metadata": {
        "id": "A8PIQdV-1Xgm"
      },
      "execution_count": null,
      "outputs": []
    },
    {
      "cell_type": "code",
      "source": [
        "def Loss_grad(w):\n",
        "    # task : calculate the gradient of loss function defined above\n",
        "    M = margin(y_train, X_train, w)\n",
        "    # grad = np.zeros(w.shape)\n",
        "    y_ = np.tile(y_train, (w.shape[0], 1)).T\n",
        "    M_ = np.tile(M, (w.shape[0], 1)).T\n",
        "    return np.mean((1-sigmoid(M_)) * y_ * X_train, axis=0)"
      ],
      "metadata": {
        "id": "H_0dLmWH0rG-"
      },
      "execution_count": null,
      "outputs": []
    },
    {
      "cell_type": "code",
      "source": [
        "def TP(y_pred, y_true):\n",
        "    return np.sum(y_pred[y_pred == 1] == y_true[y_pred == 1])\n",
        "\n",
        "def TN(y_pred, y_true):\n",
        "    return np.sum(y_pred[y_pred == -1] == y_true[y_pred == -1])\n",
        "\n",
        "def FP(y_pred, y_true):\n",
        "    return np.sum(y_pred[y_pred == 1] != y_true[y_pred == 1])\n",
        "\n",
        "def FN(y_pred, y_true):\n",
        "    return np.sum(y_pred[y_pred == -1] != y_true[y_pred == -1])\n",
        "\n",
        "def TPR(y_pred, y_true):\n",
        "    if TP(y_pred, y_true) + FN(y_pred, y_true) > 0:\n",
        "        return TP(y_pred, y_true) / (TP(y_pred, y_true) + FN(y_pred, y_true))\n",
        "    else:\n",
        "        return 0\n",
        "\n",
        "def FPR(y_pred, y_true):\n",
        "    if FP(y_pred, y_true) + TN(y_pred, y_true) > 0:\n",
        "        return FP(y_pred, y_true) / (FP(y_pred, y_true) + TN(y_pred, y_true))\n",
        "    else:\n",
        "        return 0"
      ],
      "metadata": {
        "id": "6Z1Pdskj1Nvg"
      },
      "execution_count": null,
      "outputs": []
    },
    {
      "cell_type": "code",
      "source": [
        "def roc_curve(X_in, w_in, y_in, n_points=100):\n",
        "    x_fpr = list()\n",
        "    y_tpr = list()\n",
        "    A = np.linspace(0, 1, n_points)\n",
        "    for a in A[::-1]:\n",
        "        y_pred = predict(X_in, w_in, a=a)\n",
        "        x_fpr.append(FPR(y_pred, y_in))\n",
        "        y_tpr.append(TPR(y_pred, y_in))\n",
        "    return np.array(x_fpr), np.array(y_tpr)"
      ],
      "metadata": {
        "id": "THyeM0dX1Lb3"
      },
      "execution_count": null,
      "outputs": []
    },
    {
      "cell_type": "code",
      "source": [],
      "metadata": {
        "id": "5Slj2oJWD2EA"
      },
      "execution_count": null,
      "outputs": []
    },
    {
      "cell_type": "code",
      "source": [],
      "metadata": {
        "id": "6MyWfKFLJK4P",
        "colab": {
          "base_uri": "https://localhost:8080/",
          "height": 169
        },
        "outputId": "7e04a582-2c50-4691-9a33-8b2561615682"
      },
      "execution_count": null,
      "outputs": [
        {
          "output_type": "error",
          "ename": "NameError",
          "evalue": "ignored",
          "traceback": [
            "\u001b[0;31m---------------------------------------------------------------------------\u001b[0m",
            "\u001b[0;31mNameError\u001b[0m                                 Traceback (most recent call last)",
            "\u001b[0;32m<ipython-input-1-5186be5b36e8>\u001b[0m in \u001b[0;36m<module>\u001b[0;34m\u001b[0m\n\u001b[0;32m----> 1\u001b[0;31m \u001b[0mdigits\u001b[0m \u001b[0;34m=\u001b[0m \u001b[0mload_digits\u001b[0m\u001b[0;34m(\u001b[0m\u001b[0;34m)\u001b[0m\u001b[0;34m\u001b[0m\u001b[0;34m\u001b[0m\u001b[0m\n\u001b[0m",
            "\u001b[0;31mNameError\u001b[0m: name 'load_digits' is not defined"
          ]
        }
      ]
    },
    {
      "cell_type": "code",
      "source": [],
      "metadata": {
        "id": "XIThZSzrJSgs"
      },
      "execution_count": null,
      "outputs": []
    },
    {
      "cell_type": "code",
      "source": [],
      "metadata": {
        "id": "yR5AUdr8JjHC"
      },
      "execution_count": null,
      "outputs": []
    },
    {
      "cell_type": "code",
      "source": [],
      "metadata": {
        "id": "E0_xLxJ1J_G3"
      },
      "execution_count": null,
      "outputs": []
    }
  ]
}